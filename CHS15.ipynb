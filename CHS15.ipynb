{
 "cells": [
  {
   "cell_type": "markdown",
   "metadata": {},
   "source": [
    "This notebook contains all code to reproduce results in the paper \"[A demographic and sentiment analysis of e-cigarette messages on Twitter](http://dml.cs.byu.edu/chs/Content-CHS-WS15/CHS-4.pdf)\", by Elaine Cristina Resende and [Aron Culotta](http://cs.iit.edu/~culotta), published in the Computational Health Sciences Workshop at the 6th ACM Conference on Bioinformatics, Computational Biology, and Health Informatics, 2015. Please email Aron with any questions."
   ]
  },
  {
   "cell_type": "markdown",
   "metadata": {},
   "source": [
    "### Data"
   ]
  },
  {
   "cell_type": "markdown",
   "metadata": {},
   "source": [
    "We begin with 4.6M tweets from 2012-10-01 to 2013-09-30 collected by [Sherry Emery](http://www.ihrp.uic.edu/researcher/sherry-l-emery-mba-phd)'s lab. These tweets have already been classified as \"organic\" or not using an SVM classifier (see Huang, Jidong et al. [\"A cross-sectional examination of marketing of electronic cigarettes on Twitter.\" Tobacco control](http://tobaccocontrol.bmj.com/content/23/suppl_3/iii26.full)). We restrict our analysis to those classified as organic. We will assume these data live in `/data/chs15/ecig.csv.gz`."
   ]
  },
  {
   "cell_type": "code",
   "execution_count": 1,
   "metadata": {
    "collapsed": false
   },
   "outputs": [],
   "source": [
    "from collections import Counter, defaultdict\n",
    "import cPickle\n",
    "import csv\n",
    "import datetime\n",
    "import gzip\n",
    "import itertools\n",
    "import json\n",
    "import matplotlib.pyplot as plt\n",
    "from matplotlib.lines import Line2D\n",
    "import numpy as np\n",
    "import re\n",
    "import requests\n",
    "import scipy\n",
    "from sklearn.cross_validation import cross_val_score, KFold\n",
    "from sklearn.feature_extraction.text import TfidfVectorizer\n",
    "from sklearn.feature_selection import chi2\n",
    "from sklearn.metrics import accuracy_score, classification_report, confusion_matrix, precision_recall_curve, precision_recall_fscore_support\n",
    "from sklearn.linear_model import LinearRegression, LogisticRegression\n",
    "from sklearn.preprocessing import LabelEncoder\n",
    "import string\n",
    "from tabulate import tabulate\n",
    "\n",
    "%matplotlib inline\n",
    "\n",
    "DATA = '/data/chs15'"
   ]
  },
  {
   "cell_type": "code",
   "execution_count": 2,
   "metadata": {
    "collapsed": true
   },
   "outputs": [],
   "source": [
    "def read_csv(filename, fields=['text', 'svm', 'hand_label', 'posted_time', 'real_name', 'username']):\n",
    "    f = gzip.open(filename, 'rb')\n",
    "    csvr = csv.DictReader(f, delimiter=',', quotechar='\"')\n",
    "    for row in csvr:\n",
    "        yield dict([(k, row[k]) for k in fields if k in row])"
   ]
  },
  {
   "cell_type": "code",
   "execution_count": 3,
   "metadata": {
    "collapsed": false
   },
   "outputs": [
    {
     "name": "stdout",
     "output_type": "stream",
     "text": [
      "read 992633 \"organic\" tweets\n"
     ]
    }
   ],
   "source": [
    "# Read all \"organic\" tweets.\n",
    "raw_tweets = [r for r in read_csv(DATA + '/ecig.csv.gz') if r['svm'] == '-']\n",
    "print('read %d \"organic\" tweets' % len(raw_tweets))"
   ]
  },
  {
   "cell_type": "code",
   "execution_count": 4,
   "metadata": {
    "collapsed": false
   },
   "outputs": [
    {
     "name": "stdout",
     "output_type": "stream",
     "text": [
      "781799 of 992633 tweets are unique\n"
     ]
    }
   ],
   "source": [
    "# Mark tweets with unique strings.\n",
    "tweet_strings = set()\n",
    "for t in raw_tweets:\n",
    "    if t['text'] not in tweet_strings:\n",
    "        t['unique'] = True\n",
    "        tweet_strings.add(t['text'])\n",
    "    else:\n",
    "        t['unique'] = False\n",
    "print('%d of %d tweets are unique' % (len([t for t in raw_tweets if t['unique']]), len(raw_tweets)))\n",
    "tweet_strings = None"
   ]
  },
  {
   "cell_type": "markdown",
   "metadata": {},
   "source": [
    "Next, we manually labeled 2,000 tweets into one of three categories:\n",
    "- **negative (0):** express negative sentiment toward ecigs *or* do not express sentiment, e.g., informative\n",
    "- **neutral (1):** express no sentiment.\n",
    "- **positive (2):** express positive sentiment toward ecigs, or indicate that the speaker uses ecigs.\n",
    "\n",
    "We assume these data live in `/data/chs15/labeled.csv.gz`."
   ]
  },
  {
   "cell_type": "code",
   "execution_count": 5,
   "metadata": {
    "collapsed": false
   },
   "outputs": [
    {
     "name": "stdout",
     "output_type": "stream",
     "text": [
      "read 2000 labeled tweets\n",
      "Label distribution=[('neutral', 1014), ('positive', 707), ('negative', 279)]\n"
     ]
    }
   ],
   "source": [
    "labeled_tweets = [r for r in read_csv(DATA + '/labeled.csv.gz', fields=['text', 'sent', 'real_name', 'username'])]\n",
    "\n",
    "print('read %d labeled tweets' % len(labeled_tweets))\n",
    "# Set labels.\n",
    "\n",
    "label_map = {'-1': 'negative', '0': 'neutral', '1': 'positive'}\n",
    "labels = ['negative', 'neutral', 'positive']\n",
    "#label_map = {'-1': 'negative', '0': 'neutral', '1': 'positive'}\n",
    "#labels = ['negative', 'neutral', 'positive']\n",
    "for t in labeled_tweets:\n",
    "    t['sent'] = label_map[t['sent']]\n",
    "             \n",
    "label_encoder = LabelEncoder()\n",
    "label_encoder.fit(labels)\n",
    "y = label_encoder.transform([t['sent'] for t in labeled_tweets])             \n",
    "print('Label distribution=%s' % Counter(t['sent'] for t in labeled_tweets).most_common(3))"
   ]
  },
  {
   "cell_type": "markdown",
   "metadata": {},
   "source": [
    "### Classifier Training"
   ]
  },
  {
   "cell_type": "markdown",
   "metadata": {},
   "source": [
    "Using `labeled_tweets`, we'll train a logistic regression classifier."
   ]
  },
  {
   "cell_type": "code",
   "execution_count": 6,
   "metadata": {
    "collapsed": false,
    "scrolled": true
   },
   "outputs": [],
   "source": [
    "# Tweet tokenizer.\n",
    "def tokenize(text):\n",
    "    punc_re = '[' + re.escape(string.punctuation) + ']'\n",
    "    text = text.lower()\n",
    "    text = re.sub('#(\\S+)', r'HASHTAG_\\1', text)\n",
    "    text = re.sub('@(\\S+)', r'MENTION_\\1', text)\n",
    "    text = re.sub('http\\S+', 'THIS_IS_A_URL', text)\n",
    "    text = re.sub(r'(.)\\1\\1\\1+', r'\\1', text)\n",
    "    text = re.sub(r'[0-9]', '9', text)\n",
    "    toks = []\n",
    "    for tok in text.split():\n",
    "        tok = re.sub(r'^(' + punc_re + '+)', r'\\1 ', tok)\n",
    "        tok = re.sub(r'(' + punc_re + '+)$', r' \\1', tok)\n",
    "        for subtok in tok.split():\n",
    "            if re.search('\\w', subtok):\n",
    "                toks.append(subtok)\n",
    "    return toks"
   ]
  },
  {
   "cell_type": "code",
   "execution_count": 7,
   "metadata": {
    "collapsed": false
   },
   "outputs": [
    {
     "name": "stdout",
     "output_type": "stream",
     "text": [
      "Vectorized 2000 tweets. Found 4824 terms.\n"
     ]
    }
   ],
   "source": [
    "vectorizer = TfidfVectorizer(decode_error='ignore', ngram_range=(1, 2), max_df=1., min_df=2,\n",
    "                             use_idf=True, tokenizer=tokenize, binary=False, norm='l2')\n",
    "X = vectorizer.fit_transform(t['text'] for t in labeled_tweets)\n",
    "print('Vectorized %d tweets. Found %d terms.' % (X.shape[0], X.shape[1]))\n",
    "features = np.array(vectorizer.get_feature_names())"
   ]
  },
  {
   "cell_type": "code",
   "execution_count": 8,
   "metadata": {
    "collapsed": false,
    "scrolled": true
   },
   "outputs": [
    {
     "name": "stdout",
     "output_type": "stream",
     "text": [
      "POSITIVE\n",
      "Vaping kush&gt;Smoking kush\n",
      "@LindaMcAvanMEP anything that attracts people away from tobacco cigarettes is a good thing, inc. ecig flavours. #EUecigBAN\n",
      "I bought a Ecig today\n",
      "My new baby. Stop smoking, start vaping :) http://t.co/HjdE74lk\n",
      "@Kelbyjohnson14 Try the new E-cigarette. . Worth a try anyway.\n",
      "my mom tries to convince my dad to switch to e-cigs like daily\n",
      "RT @jaymer: @RepJimLyons?�Stop #H3639 by @jeffrey_sanchez , Millions have quit smoking with the #Ecig. #H3639 promotes #cigarettes and #canc�??\n",
      "I left my e cig in my room .. greeat ..\n",
      "@NewYorkEDM do you know if e-cigarettes are allowed in? Or do i need to sneak it\n",
      "No cigarettes &amp; my ecig is empty..the struggle is real.\n",
      "RT @VapeBans: @SimonCowell Just 1 #RT for your fellow #Vapers is all it takes. Show your 6.6mil followers that u care about the #EUEcigBan!\n",
      "I like when Micah walks all over the house while tweeting and looking for his ecig charger..????\n",
      "Ouh hell yes! #ejuice #watermelon #irishcream #earlgrey #vape #vapejuice #vapejuice #vapeon #livehealthy http://t.co/u5M7l2P24R\n",
      "RT @RedNick_Gjerde: If you have an e cig and you haven't tried Texas Watermelon, you're missing the fuck out!\n",
      "I'm gonna blow ecig vapour in the face of the law! #EUecigBan\n",
      "@MikeeeDeeeLeon Nice I tried to smoke electronic cigarette last Saturday, it was my first time.\n",
      "@iNURSELISA  Less than one.  Mostly smoked when fishing or golfing.  E cig did the trick cause I can still smoke something\n",
      "always roll with 18 mg in my ecig\n",
      "RT @Johnedwarddiver: Smoked for 34 years. Voted #labour for 32. Quit the former with #ecigs. Now quitting the latter thanks to @LindaMcAvan?\n",
      "I love my #greensmoke e-cigarette so awesomeeee :) http://t.co/Gz6YXyg4SW\n",
      "RT @mrpennybags: @WarmCigarette I am using this e-cig to cut my nicotine content slowly http://t.co/8AhgvUwk I should be completely off  ...\n",
      "almost 12 hours without a real cig feeling better thank i was with the cigs.... This e-cig is really helping...... http://t.co/3Q1PZY2aSv\n",
      "RT @msparker32: Hey @evercig  . Are you showing your support in the vaper's fight against the #EUecigBAN ?#ecigs #PV #vapebash#vapecommunity\n",
      "Electric cigarettes are better than regular cigarettes!!\n",
      "I've got my green smoke right here! #bowlsforgoals #rctid\n",
      "RT @Richo_I: http://t.co/aW3So8TTqf will make easy to do and could help prevent thousands of premature deaths (2/2) #vaping #ecigs #MEP #EU\n",
      "E cig... for vaped weed, not nicotine. Blessed. &gt;&gt;&gt;\n",
      "I love getting new juice in the mail. Vaping \"cupcake city\" &amp; \"Crunk berry\" from Alice in Vapeland. Luvin it!! #vapecommunity #ejuice\n",
      "@fullbright I don't smoke but I bought an e-cig that lit up blue just so I could be Mr.Sci-fi. Filled it with banana and apple flavor.\n",
      "DALLAS E CIG : mattie1224's blog: Transformations: I sit here today 116 days free from smoke, 30... http://t.co/7ACM9botVM RETAIL STORES\n",
      "@kaitlin_senn hey I like e cigs. That is all.\n",
      "I bought an E-cigarette and drove around listening to The XX. It lasts 10 days, so I gotta make a playlist that'll make Jesus want to dance.\n",
      "Lol i tried vaping yesterday #amicoolyet\n",
      "RT @jessievolt: Smoking electronic cigarette with @katiestives http://t.co/YBtyZKJp0Q\n",
      "@kcavo got a 650 an 1100 and now an 1800 mah vaping good picking up a mod stick soon I'm gonna see if I could work at the vape bar I dig it\n",
      "@Abbeyy6 Ill buy you an e cig to help\n",
      "RT @Iocus_Severus: @LindaMcAvanMEP #EUecigBAN My Dad had a smoking related heart attack.  Ecigs got me off and keeps me off tobacco  Ple ...\n",
      "�??@crissles: is it inappropriate to smoke a hookah pen at work?�?? nope. I see ppl smoking those electric cigs all the time.\n",
      "RT @Talk2Cleo: DON'T BUY the Throw away E-cigarette! I broke it already!  Now I bought this. Much better. Refill and 11mg nicotine  http://�??\n",
      "From smokin' to vaping\n",
      "Back at the office #vape #ecig #smoke #tbt #throwBackThursday http://t.co/lssqkQvtzZ\n",
      "vaping before class\n",
      "find me in the bathroom for an e-cig todays one dollar deal only 2day\n",
      "I become obsessed with my e cig when I'm drunk.\n",
      "Cameras at the school? Ecigs allowed? I want to be home schooled.\n",
      "@paulnuttallukip MEPs' 5m ex-smokers due to ecigs, we're lucky,185million EU smokers dying. They can be saved if it wasnt for the #EUecigBAN\n",
      "@SenKClark Stop #H3639 by @jeffrey_sanchez , Millions have quit smoking with the #Ecig. #H3639 promotes #cigarettes and #cancer !!\n",
      "RT @strifekav: Why you should move on to electronic cigarettes http://t.co/TxgGMtKz\n",
      "My Nan's black electric cigarette actually looks mint\n",
      "I have 2 burns on the inside of my thighs from dropping a cig cherry on myself this is why I bought an e cig okay\n",
      "\n",
      "NEGATIVE\n",
      "This kid was hitting an e-cig during class. I look over and smokes coming out his nose.\n",
      "In a rather... quaint theater in Connecticut, there's a dude smoking an electric cigarette in the theater. This place is amazing.\n",
      "E-cigs are for pussies hahahahahaha sorry not sorry\n",
      "spent two hours today talking to a guy smoking an e-cig, so ya that was weird\n",
      "E-cigarette explodes, burns child: A mother's e-cigarette exploded in a car charger, burning her young boy. KS... http://t.co/MfOdepePa1\n",
      "Kristen Stewart starred with Blu Cigarette swindler Stephen Dorff in Cold Creek Manor in '03 b4 she was the most recognized YA on the planet\n",
      "RT @Queen_UK: Right. Sorry about this. Apparently Camilla unplugged Facebook to plug in an electric heater/cigarette lighter. Awkward.\n",
      "RT @AJMarriner: @Awaydays23 haha Newcastle using green smoke bombs still. Hahaha school boy stuff! Lets all laugh at Newcastle!\n",
      "If you once smoked cigarettes and now use one of those electric cigarettes. KILL YOURSELF. It is a fucking toy for adults. STOP IT.\n",
      "E-cigarettes threaten to undo years of gains: Our view http://t.co/aoSK7QNb6P via @usatoday\n",
      "#IHatePeopleThat smoke ecigs\n",
      "cant fuck with e-cigs anymore . https://t.co/BtPgrWXx9b\n",
      "She was struttin her stuff with that pink electronic cigarette\n",
      "RT @AlanaLaheney: If you're smoking an e cig in class... I'm judging you\n",
      "OK! I'll tell yall...she let me hit her electronic cigarette lol\n",
      "RT @Queen_UK: Right. Sorry about this. Apparently Camilla unplugged Facebook to plug in an electric heater/cigarette lighter. Awkward.\n",
      "RT @Zac_NewsFR: @_MirrorOfSoul yes i read an article who say that Zac want stop smocking but he has begin electronic cigarette\n",
      "Like what's the point isn't an ecigarette or whatever they're called the same shit?\n",
      "Kevin almost got in a fight last night because he told this guy his e cig was stupid ????\n",
      "RT @alexandrabish: #PeopleAtMySchool smoke their E-cigs in class\n",
      "RT @therealcalvin45: You smoke e-cigs you must be really hardcore\n",
      "Everytime the teacher leaves the room Luam whips his e-cig out it's proper class\n",
      "RT @EddieMarzZ: I feel like everyone loves ecigs but so many people make fun of people who have em\n",
      "e-cigarettes damage the lungs http://t.co/iXulYND0\n",
      "SMMFH RT @FreshAIG: Murda Mook smoking an electric cigarette out of a Man's foot http://t.co/o283wcZI\n",
      "RT @WarmCigarette: I wish they'd pixelate eCigarette advertisements the way they do genitals in Japanese porn\n",
      "Dey got electric cigarettes now wtf????\n",
      "RT @laprugna: Noel, IDDIO, taci cazzo.\"@NME: Noel Gallagher criticises Muse drummer for smoking an electronic cigarette http://t.co/aqCS ...\n",
      "@AnthonyStarkIM *He growls and both their clothes that had not been discarded vanished in a puff of green smoke* I'm the one calling (c)\n",
      "@Snopeee8 yup it's just that he's more prone to getting it if he got exposed. electronic cig is also bad for health too\n",
      "Fuck ecigs\n",
      "e-cigs are bad, mmkay? http://t.co/m3pV5xtg\n",
      "�??@Ibrahimshakirr: Some bitch was smoking an e cig at the concert. I cried�?? was it PARKER ?\n",
      "RT @haiEban: if you smoke e-cigs for fun, youre a fucking fag.\n",
      "RT @HeOnThaLoose: #ThingsThatBotherMe Cigarette smoke\n",
      "RT @TooMessedUp: I caught my 9 year old son smoking an electronic cigarette today.  I told him they're for faggots and bought him a pack of�??\n",
      "RT @chelseaarenae_: u badass with ur ecig\n",
      "RT @Queen_UK: Right. Sorry about this. Apparently Camilla unplugged Facebook to plug in an electric heater/cigarette lighter. Awkward.\n",
      "Some children getting 1st taste of nicotine from e-cigarettes, then moving on to tobacco products, study suggests. http://t.co/sEvoA1VHbH\n",
      "His dumb ass keep playing with this e-cig lol funniest shit ever. He gon start smoking watch lol\n",
      "15 years old? Wanna be cool? Buy that electric cigarette like you're so fucking addicted to smoking that you almost had gangrene. #Sarcasm\n",
      "@RickSmid e cig everywhere.\n",
      "RT: @SkarsgardStew: caught this print screen, Rob's electric cigarette, and Kristen touching his knee. http://t.co/ESLQh4RU\n",
      "RT @OverlyManlyMann: Electronic cigarettes? You mean pussy sticks?\n",
      "My lil sis is just chillin w an ecig in her mouth doing mad tricks........ She's 12\n",
      "\"OMG YOU NEED TO QUIT SMOKING THAT'S SO BAD FOR YOU OMG.\"  *one week later* \"Can you help me get an ecig?\"\n",
      "RT @ZeRoyalViking: It's really awkward when someone uses one of those E-cig things in the middle of class.\n",
      "RT @alancoxshow: Thanks to e-cigs, it's actually true now when parents warn their kids that smoking doesn't make you look cool.\n",
      "Seriously can you not wait one more mod to smoke your ecig? #classy\n",
      "vaping is so awesome.... bitch shut the fuck up... no its not...\n",
      "@StevenAranyi you suckkkk. obviously it's the e-cig. it's screwing with your internet. that's what you get. #lame #stilllaughing\n",
      "RT @iMegladon: This kid at STEP said he only smokes mint flavored e cigs so his breath smells good and I told him he should just brush his �??\n",
      "James Dean couldn't even make e-cigs look cool\n",
      "RT @Lexxxtate: Everyone is on the electric cigarettes now... Like, what??\n",
      "RT @OverlyManlyMann: Electronic cigarettes? You mean pussy sticks?\n",
      "E-Cigs are for douche bags\n",
      "Wow there's even a guy smoking an ecig in the doctors office #COOL\n",
      "Kids smoking their ecig in the halls..\n",
      "RT @FeistySupergirl Rob: Do you want one? (an e-cig) Interviewer: Sure. LOL.\n",
      "RT @Queen_UK: Right. Sorry about this. Apparently Camilla unplugged Facebook to plug in an electric heater/cigarette lighter. Awkward.\n",
      "Your electronic cigarette doesn't make you look any cooler\n",
      "RT @WomensHumor: I would honestly rather you smoke real cigarettes than the electronic ones.\n",
      "RT @moogunna_5566: �??@YBIC_Yatta: Niggas in Cedars Buying Electric Cigarettes .�??????????\n",
      "The report my supervisor wrote for the new guy. Lmao @ number 11! He smokes the electric cigarettes in the office. http://t.co/dhqlmyMB\n",
      "Electronic cigarettes = lame. For faggot by faggot\n",
      "RT @JayAshlyn: Electronic cigarettes ? Kill yourself -.-\n",
      "Ecigs are dumb just smoke a damn cigarette or stop smoking lolll\n",
      "e-cigs: no smoke, no harmful carcinogens, no Looking Cool\n",
      "@Tiffany_Million you sure he was smoking an electric cigarette? Sounds like he was chuffing on a stick of dynamite! X\n",
      "White boy gone black just shoulder leaned  into work e cig in one hand and four loco in the other straight chillin g-unit\n",
      "RT @tyhayden_: @SeanRyanNolan ecig faggot\n",
      "@Jbtrainor Luke is giving up smoking. So is Foster. I bet they bought electric cigarettes together. ????\n",
      "Everyone I know is starting to have an #ecig !! Let the future of smoking begin!\n",
      "�??@eonline: Leonardo DiCaprio Smokes Electronic Cigarette http://t.co/7c4KZFUu�?? @sierragillespie Leo makes anything sexy... #truestory\n",
      "RT @1Obefiend: I have no issue with E-CIG smoker other than........ what do you hang those things inside a pouch on your neck? So damn u ...\n",
      "RT @shegotagronk: Electronic cigarettes, perfect for people who would rather die from embarrassment than lung cancer.\n",
      "RT @RaynorJake: Some kids are hitting e-cigs in the bathroom. #hardaf\n",
      "My mum gets me mad with this new electronic cigarette she has acquired from somehere... Why does it make noises when I'm watching TV. ???????????�???�\n",
      "This nigga is standing in line looking at himself in the glass smoking on one of those electronic cigarettes... Lame\n",
      "After they were on the news this morning, I've just had to ask a student not to \"smoke\" an e-cigarette in my class!\n",
      "Ecigs are buns\n",
      "\"@ajam: CDC: E-cigarette use doubles among children http://t.co/k9x6TRMpfG\" Oh, to be young and stupid. I'd have so much more company.\n",
      "�??@Frank_Butcher: People that smoke electro cigarettes are complete cunts #ButcherFact #CuntWatch�?? @muzzcraword\n",
      "I wish they stopped making cigarettes just so i wouldnt have to watch these annoying ass smoke free commercials on the tv &amp; radio #gross\n",
      "Really.... 3 Old Chinese men at Starbucks vaping...\n",
      "I feel like people that don't even smoke cigs are getting ecigs... Lol why\n",
      "RT @WildKingPenny: Fuck your e-cigarette! I just bought an e-hookah bitch!\n",
      "RT @drunksixthgrade: pussy money ecigs\n",
      "Noel Gallagher criticises Muse drummer for smoking an electronic cigarette http://t.co/IJOrCXIi38\n",
      "RT @DRUDGE_REPORT: CLAIM: E-Cigarette Explodes, Shoots 4-Foot Flames... http://t.co/b5AQ3L08GX\n",
      "RT @stephenbama27: I hate when people post pics of them smoking ecigs acting like they're smoking strong\n",
      "The awkward moment when a kid in my Econ class starts smoking an electronic cigarette in the middle of a lecture #what #collegeproblems\n",
      "Wow it's bc the dude next to me is smoking one of these electronic cigarette things.... CoOol\n",
      "Don't care if it's an e-cig, the classroom is no place for tobacco consumption. Go outside.\n",
      "RT @kylietayyy: Your not even that addicted to cigarettes your just trying to show off by smoking in the hall with your e-cig  #lowfuckingl?\n",
      "RT @xoalys0n: wow mt sinai you're all SO COOL smoking electonic cigs in the halls????\n",
      "RT @cara_connors: Is it really necessary to use your ecig in school?\n",
      "Please continue to smoke your ecigs while at midnight bowling YOU ARE SO FUCKING COOL I CAN'T EVEN TAKE IT\n",
      "guys chill the fuck out, it's most probably and e-cig. he said he's quitting for moms and he'll stick to it.\n",
      "The thought of an e-cig is just stupid\n",
      "\n",
      "NEUTRAL\n",
      "Oh no I'm secondhand ecig high from a man in tennis shoes\n",
      "testing le syafiq ikmal's electric cigarette T.T rasa mcm ubat antibiotic tho.\n",
      "RT @Vapor4Life: Read this blog post for tips on troubleshooting ecigs! http://t.co/N3ezGFb08w\n",
      "An electric cigarette commercial! Thinking of you @Christian_Abbey �??\n",
      "@MajorXIII ask me for anything ecig related thats what I know\n",
      "@DhesiBahaRaja wahh bestnya tgk Dr bring up psl e-cig lagi. Thanks Dr! We owe you a lot.\n",
      "DALLAS E CIG Evic Venders: ... http://t.co/WZtLbSS9 RETAIL STORES\n",
      "In me beveiligingspakkie met Sport &amp; Bewegen tas bij me, jatok van alle markten thuis.\n",
      "RT @TowerOfVape: Morning #vaping shows @TVN Live 8:30A Kisses &amp; Kerosene @Case1320 &amp; @Myzy36 11A  Out To Lunch w/Diana #vape #va ...\n",
      "Arr�te de vaper esp�ce de.... De mec accro � la vap' http://t.co/2LSm7w5q\n",
      "Merci � @dressinghomme qui parle d'AlterSmoke: nombreuses saveurs, plein de qualit�s par rapport au #tabac http://t.co/RBrnJK12 #ecig\n",
      "RT @DrStrangeLOL: On a le droit de dire d'une musulmane voil??e qui fume la cigarette ??lectronique qu'elle est ?� voile et ?� vapeur ?\n",
      "#vapor #smoking  #vaping - Vapor Joes - Daily Vaping Deals: Boge ViVi Nova - $6.99 Free Shipping http://t.co/E41xVkHw  - #ecig #VapeDeal\n",
      "Nuovo Argomento Small battery &amp; Ego ? Chi mi consiglia un buon PCC tipo emini ma pi� economico?: Con l'arrivo ... http://t.co/hRjfXKoJGO\n",
      "RT @VictorineDeliat: il me faut cette putain de cigarette electronique!!!!!!!!!!!\n",
      "E-Cigs in Hotels http://t.co/TfsRuQeNC5\n",
      "@anne_DK87 what is an electronic cigarette?\n",
      "@AnisFairy1 aku sihat semenjak isap rokok electric cigarette..haha\n",
      "The electronic cigarette free startrer package trial get began while using the electronic cigarette http://t.co/G2lcktEvho\n",
      "@officialKeef @jimmyfallon Electric cigarette so he doesn,t smoke\n",
      "RT @ECigologist: https://t.co/SQbevRe6VU @Hifistud @smoke2vape @eCigsForYou @SWOFcampaign ... This is brilliant.\n",
      "Kit 36E-cigarette electronique rechargeable  2 chargeurs USB   prise murale et allume-cigare    un cable USB  1 boi http://t.co/YiF2a9zf\n",
      "Nur noch Heute, 30 % auf alle Easy e-Liquids und 20 % auf alles f?�r Stammkunden.... http://t.co/hR6k2zAYRb\n",
      "Ecig rollercoaster\n",
      "If e-cigarettes &amp; spray tanning are the escape hatches for cigarettes &amp; tanning beds, then @v2cigs and @LiveSunless are the brands to watch.\n",
      "http://t.co/OstcS9tGUc how d'ya like them apples #eu_ecig_ban\n",
      "RT @Johnedwarddiver: .@UKLabour Ed's evidence-based approach on Syria is commendable. How about doing the same with policy on ecigs? No nee�??\n",
      "The Ambiguous Allure of the E-Cig http://t.co/rcALaukfll via @roomfordebate\n",
      "@v2cigs Perhaps you should reword that to include the fact that it's the last sale of the YEAR, not ever.\n",
      "A homeless guy just asked me if he could bum an e-cigarette\n",
      "20% OFF WHOLE STORE &amp; LA idols #BOGO 50% off. Excludes E-cigs #ComeShop\n",
      "Electronic cigarettes-stylish chosen in favor of being smokers http://t.co/JV9p6mxgsM\n",
      "E Cig Lewisville TX Soothing a sore throat with vaping: Wishing everyone a happy and successful 201... http://t.co/UUmTlYia Retail Store\n",
      "#Cigarette http://t.co/CHv23nMUrV\n",
      "http://t.co/RMv8zmkEqm �??�?�?��?�????�?��??� �??????��??�?�? health e-cigarette ???��?�?�?�??��???�?\n",
      "E-cigarettes bad for you?: Professor Neal Benowitz discusses the health risks and benefits of electronic cigar... http://t.co/4AdvfIeLmG\n",
      "RT @BigBudsMag: Do vapes get you higher? Our expert says HECK YES-- if you do it right... #cannabis #vaporizer #mmot http://t.co/Z7bq794juL\n",
      "RT @vaporkl: Lavatube lambo v4 rm220 complete set with flavor.cheapest price in http://t.co/RtYOwrFdPz me. #kltu #klrb #rtniaga  http:// ...\n",
      "Like smoke cigarettes in a strip club with a gun past midnight. Is there a more adult thing to do?\n",
      "Combined sales of electronic cigarettes worldwide-both online and at brick-and-mortar stores - have far exceeded the $1-billion mark\n",
      "RT @Hifistud: .@DoctorChristian Please RT this video of real life folks who use e-cigs http://t.co/jbK4LcjIvS - it may prevent needless ear?\n",
      "RT @ecigsproject: Want to save 10% OFF All Products at Smokeless Image visit http://t.co/qjMLO3LLy6 for the exclusive coupon code! #ecigspr�??\n",
      "Marissa being all selective with her cigarette smoke... msmith0789 hahah just came across this fine�?? http://t.co/ylLhBxOG3r\n",
      "RT @ICoombs: @LindaMcAvanMEP The carcenogens in e-cig vapour are the same level as or less than that in nicorette inhalers. #EUecigBAN\n",
      "RT @AasmaRbz: @MllCicicaps_MB En s'momnt jai pls d'argent pr mes clope &amp; ta cru j'allai economiser , en pls attendre pr une cigarette electriqe mdrrrrr\n",
      "kok siang ni x habis2 tanye aq pasal vaper memang aq ada beli vaper pon kan -.-'\n",
      "E-cigs light market before FDA rules: Sell'em while you can. E-cigarette companies are grabbing for ... http://t.co/MZDBq77G17 #news #ff\n",
      "BBC News - E-cigarettes 'as effective' as nicotine patches http://t.co/CmCO0KjUOv\n",
      "RT @evaporizing: V2 Cigs #ecigarette #giveaway from New Electronic Cigarette Review $1k of #V2Cigs #Ecig prizes Enter By August 31 http://t�??\n",
      "Adakah Rokok Elektronik Selamat?: Baru2 ni isu rokok elektronik ni jadi debat besar jugak. Adakah vaping/rokok e... http://t.co/4nH91gp3\n"
     ]
    }
   ],
   "source": [
    "# Print some sample tweets.\n",
    "print 'POSITIVE\\n', '\\n'.join([t['text'] for t, l in zip(labeled_tweets, y) if l == 2][:50])\n",
    "print '\\nNEGATIVE\\n', '\\n'.join([t['text'] for t, l in zip(labeled_tweets, y) if l == 0][:100])\n",
    "print '\\nNEUTRAL\\n', '\\n'.join([t['text'] for t, l in zip(labeled_tweets, y) if l == 1][:50])"
   ]
  },
  {
   "cell_type": "code",
   "execution_count": 9,
   "metadata": {
    "collapsed": false
   },
   "outputs": [
    {
     "name": "stdout",
     "output_type": "stream",
     "text": [
      "accuracy=0.746\n",
      "             precision    recall  f1-score   support\n",
      "\n",
      "   negative       0.60      0.55      0.57       279\n",
      "    neutral       0.78      0.84      0.81      1014\n",
      "   positive       0.75      0.68      0.72       707\n",
      "\n",
      "avg / total       0.74      0.75      0.74      2000\n",
      "\n",
      "            negative    neutral    positive\n",
      "--------  ----------  ---------  ----------\n",
      "negative         153         67          59\n",
      "neutral           59        855         100\n",
      "positive          44        180         483\n",
      "\n",
      "CLASS 0\n",
      "you\t2.573\n",
      "smoking\t2.370\n",
      "smoking an\t2.251\n",
      "he\t2.119\n",
      "fuck\t2.020\n",
      "\n",
      "CLASS 1\n",
      "THIS_IS_A_URL\t5.079\n",
      "e-cigarettes\t1.660\n",
      "de\t1.343\n",
      "la\t1.169\n",
      "99\t1.165\n",
      "\n",
      "CLASS 2\n",
      "my\t5.244\n",
      "i\t4.426\n",
      "vaping\t1.941\n",
      "HASHTAG_vaping\t1.583\n",
      "HASHTAG_ecig\t1.442\n"
     ]
    }
   ],
   "source": [
    "def confusion(truths, preds, labels):\n",
    "    m = confusion_matrix(truths, preds)\n",
    "    m = np.vstack((labels, m))\n",
    "    m = np.hstack((np.matrix([''] + list(labels)).T, m))\n",
    "    return tabulate(m.tolist(), headers='firstrow')\n",
    "\n",
    "def top_coef(clf, vocab, n=10):\n",
    "    if len(clf.classes_) == 2:\n",
    "        coefs = [clf.coef_[0], -clf.coef_[0]]\n",
    "    else:\n",
    "        coefs = clf.coef_\n",
    "    for li, label in enumerate(clf.classes_):\n",
    "        print('\\nCLASS %s' % label)\n",
    "        coef = coefs[li]\n",
    "        top_coef_ind = np.argsort(coef)[::-1][:n]\n",
    "        top_coef_terms = vocab[top_coef_ind]\n",
    "        top_coef = coef[top_coef_ind]\n",
    "        print '\\n'.join(['%s\\t%.3f' % (term, weight) for term, weight in zip(top_coef_terms, top_coef)])\n",
    "\n",
    "def do_cv(X, y, labels, nfolds=10):\n",
    "    cv = KFold(len(y), nfolds, random_state=123456)\n",
    "    preds = []\n",
    "    truths = []\n",
    "    for train, test in cv:\n",
    "        clf = LogisticRegression(class_weight='auto')\n",
    "        clf.fit(X[train], y[train])\n",
    "        preds.extend(clf.predict(X[test]))\n",
    "        truths.extend(y[test])\n",
    "    print ('accuracy=%.3f' % (accuracy_score(truths, preds)))\n",
    "    print classification_report(truths, preds, target_names=labels)\n",
    "    print confusion(truths, preds, labels)\n",
    "    clf = LogisticRegression(class_weight='auto')\n",
    "    clf.fit(X, y)\n",
    "    return clf, truths, preds\n",
    "\n",
    "clf, truths, preds = do_cv(X, y, label_encoder.classes_, 10)\n",
    "top_coef(clf, features, 5)"
   ]
  },
  {
   "cell_type": "code",
   "execution_count": 10,
   "metadata": {
    "collapsed": false,
    "scrolled": true
   },
   "outputs": [
    {
     "data": {
      "image/png": "[encoded data removed]",
      "text/plain": [
       "<matplotlib.figure.Figure at 0x120198410>"
      ]
     },
     "metadata": {},
     "output_type": "display_data"
    },
    {
     "name": "stdout",
     "output_type": "stream",
     "text": [
      "[ 0.05  0.1   0.15  0.2   0.25  0.3   0.35  0.4   0.45  0.5   0.55  0.6\n",
      "  0.65  0.7   0.75  0.8   0.85  0.9   0.95  1.  ]\n",
      "label= negative\n",
      "0.05 (0.59765625, 0.54838709677419351, 0.57196261682242988, None)\n",
      "0.1 (0.59765625, 0.54838709677419351, 0.57196261682242988, None)\n",
      "0.15 (0.59765625, 0.54838709677419351, 0.57196261682242988, None)\n",
      "0.2 (0.59765625, 0.54838709677419351, 0.57196261682242988, None)\n",
      "0.25 (0.59765625, 0.54838709677419351, 0.57196261682242988, None)\n",
      "0.3 (0.59765625, 0.54838709677419351, 0.57196261682242988, None)\n",
      "0.35 (0.60079051383399207, 0.54480286738351258, 0.57142857142857151, None)\n",
      "0.4 (0.58878504672897192, 0.45161290322580644, 0.51115618661257611, None)\n",
      "0.45 (0.63694267515923564, 0.35842293906810035, 0.4587155963302752, None)\n",
      "0.5 (0.69230769230769229, 0.25806451612903225, 0.37597911227154046, None)\n",
      "0.55 (0.84745762711864403, 0.17921146953405018, 0.29585798816568049, None)\n",
      "0.6 (0.87179487179487181, 0.12186379928315412, 0.21383647798742136, None)\n",
      "0.65 (0.80000000000000004, 0.057347670250896057, 0.10702341137123746, None)\n",
      "0.7 (1.0, 0.010752688172043012, 0.021276595744680854, None)\n",
      "0.75 (1.0, 0.0035842293906810036, 0.0071428571428571435, None)\n",
      "0.8 (0.0, 0.0, 0.0, None)\n",
      "0.85 (0.0, 0.0, 0.0, None)\n",
      "0.9 (0.0, 0.0, 0.0, None)\n",
      "0.95 (0.0, 0.0, 0.0, None)\n",
      "1.0 (0.0, 0.0, 0.0, None)\n",
      "label= neutral\n",
      "0.05 (0.77586206896551724, 0.84319526627218933, 0.8081285444234404, None)\n",
      "0.1 (0.77586206896551724, 0.84319526627218933, 0.8081285444234404, None)\n",
      "0.15 (0.77586206896551724, 0.84319526627218933, 0.8081285444234404, None)\n",
      "0.2 (0.77586206896551724, 0.84319526627218933, 0.8081285444234404, None)\n",
      "0.25 (0.77586206896551724, 0.84319526627218933, 0.8081285444234404, None)\n",
      "0.3 (0.77586206896551724, 0.84319526627218933, 0.8081285444234404, None)\n",
      "0.35 (0.77727272727272723, 0.84319526627218933, 0.80889309366130546, None)\n",
      "0.4 (0.79264844486333652, 0.82938856015779094, 0.81060240963855423, None)\n",
      "0.45 (0.828125, 0.78402366863905326, 0.80547112462006076, None)\n",
      "0.5 (0.86407766990291257, 0.70216962524654836, 0.77475516866158856, None)\n",
      "0.55 (0.9058988764044944, 0.63609467455621305, 0.74739281575898031, None)\n",
      "0.6 (0.93103448275862066, 0.55917159763313606, 0.69870609981515719, None)\n",
      "0.65 (0.94320486815415816, 0.45857988165680474, 0.61712010617120105, None)\n",
      "0.7 (0.96275071633237819, 0.33136094674556216, 0.49303008070432874, None)\n",
      "0.75 (0.96954314720812185, 0.18836291913214989, 0.31544178364987607, None)\n",
      "0.8 (0.989247311827957, 0.090729783037475351, 0.16621499548328819, None)\n",
      "0.85 (1.0, 0.032544378698224852, 0.063037249283667621, None)\n",
      "0.9 (1.0, 0.011834319526627219, 0.023391812865497075, None)\n",
      "0.95 (1.0, 0.0039447731755424065, 0.0078585461689587421, None)\n",
      "1.0 (0.0, 0.0, 0.0, None)\n",
      "label= positive\n",
      "0.05 (0.75233644859813087, 0.68316831683168322, 0.71608598962194225, None)\n",
      "0.1 (0.75233644859813087, 0.68316831683168322, 0.71608598962194225, None)\n",
      "0.15 (0.75233644859813087, 0.68316831683168322, 0.71608598962194225, None)\n",
      "0.2 (0.75233644859813087, 0.68316831683168322, 0.71608598962194225, None)\n",
      "0.25 (0.75233644859813087, 0.68316831683168322, 0.71608598962194225, None)\n",
      "0.3 (0.75233644859813087, 0.68316831683168322, 0.71608598962194225, None)\n",
      "0.35 (0.75468749999999996, 0.68316831683168322, 0.71714922048997776, None)\n",
      "0.4 (0.76460767946577635, 0.64780763790664786, 0.70137825421133237, None)\n",
      "0.45 (0.80746561886051083, 0.58132956152758131, 0.67598684210526316, None)\n",
      "0.5 (0.8380281690140845, 0.50495049504950495, 0.63018534863195053, None)\n",
      "0.55 (0.89253731343283582, 0.42291371994342292, 0.57389635316698651, None)\n",
      "0.6 (0.92803030303030298, 0.34653465346534651, 0.50463439752832129, None)\n",
      "0.65 (0.95744680851063835, 0.25459688826025462, 0.4022346368715084, None)\n",
      "0.7 (0.95614035087719296, 0.15417256011315417, 0.26552984165651644, None)\n",
      "0.75 (0.96825396825396826, 0.086280056577086275, 0.15844155844155844, None)\n",
      "0.8 (0.95833333333333337, 0.032531824611032531, 0.062927496580027359, None)\n",
      "0.85 (1.0, 0.0099009900990099011, 0.019607843137254902, None)\n",
      "0.9 (0.0, 0.0, 0.0, None)\n",
      "0.95 (0.0, 0.0, 0.0, None)\n",
      "1.0 (0.0, 0.0, 0.0, None)\n",
      "accuracy=0.746\n",
      "             precision    recall  f1-score   support\n",
      "\n",
      "   negative       0.60      0.55      0.57       279\n",
      "    neutral       0.78      0.84      0.81      1014\n",
      "   positive       0.75      0.68      0.72       707\n",
      "\n",
      "avg / total       0.74      0.75      0.74      2000\n",
      "\n",
      "            negative    neutral    positive\n",
      "--------  ----------  ---------  ----------\n",
      "negative         153         67          59\n",
      "neutral           59        855         100\n",
      "positive          44        180         483\n"
     ]
    },
    {
     "name": "stderr",
     "output_type": "stream",
     "text": [
      "/Users/awculott/.local/lib/python2.7/site-packages/sklearn/metrics/classification.py:958: UndefinedMetricWarning: Precision and F-score are ill-defined and being set to 0.0 due to no predicted samples.\n",
      "  'precision', 'predicted', average, warn_for)\n"
     ]
    }
   ],
   "source": [
    "def do_cv_thresh(X, y, labels, thresh=.5, nfolds=10):\n",
    "    cv = KFold(len(y), nfolds, random_state=123456)\n",
    "    preds = []\n",
    "    truths = []\n",
    "    probas = []\n",
    "    for train, test in cv:\n",
    "        clf = LogisticRegression(class_weight='auto')\n",
    "        clf.fit(X[train], y[train])\n",
    "        proba = clf.predict_proba(X[test])\n",
    "        if len(probas) == 0:\n",
    "            probas = proba\n",
    "        else:\n",
    "            probas = np.vstack((probas, proba))\n",
    "        preds.extend(clf.predict(X[test]))\n",
    "        truths.extend(y[test])\n",
    "    # Plot precision/recall.\n",
    "    plt.clf()\n",
    "    for i, l, fmt in [(1, 'neutral', 'bo-'), (2, 'positive', 'g^--'), (0, 'negative', 'rs-.')]:\n",
    "        precision, recall, _ = precision_recall_curve([1 if t==i else 0 for t in truths], probas[:, i])\n",
    "        plt.plot(recall, precision, fmt, label=l, markevery=50)\n",
    "    plt.legend(loc='lower left')\n",
    "    plt.xlabel('Recall', size=16)\n",
    "    plt.ylabel('Precision', size=16)\n",
    "    plt.savefig('prec_rec.pdf', bbox_inches='tight')\n",
    "    plt.show()\n",
    "                       \n",
    "    # Now deterime best threshold for each class to maximize F1.\n",
    "    thresholds = np.arange(1,21) * .05\n",
    "    print thresholds\n",
    "    for i, l in enumerate(labels):\n",
    "        print 'label=', l\n",
    "        for thresh in thresholds:\n",
    "            newpreds = [1 if l2==i and probas[j][i] >= thresh else 0 for j, l2 in enumerate(preds)]\n",
    "            newtruths = [1 if t==i else 0 for t in truths]\n",
    "            #print Counter(newpreds)\n",
    "            print thresh, precision_recall_fscore_support(newtruths, newpreds, average='binary')\n",
    "    print ('accuracy=%.3f' % (accuracy_score(truths, preds)))\n",
    "    print classification_report(truths, preds, target_names=labels)\n",
    "    print confusion(truths, preds, labels)\n",
    "    clf = LogisticRegression(class_weight='auto')\n",
    "    clf.fit(X, y)\n",
    "    return clf, truths, preds\n",
    "\n",
    "clf, truths, preds = do_cv_thresh(X, y, label_encoder.classes_, .1, 10)"
   ]
  },
  {
   "cell_type": "code",
   "execution_count": 11,
   "metadata": {
    "collapsed": false
   },
   "outputs": [],
   "source": [
    "# Write cross-validation results .tex table.\n",
    "def clfreport_to_tex(report, outfile):\n",
    "    \"\"\" Write a sklearn classification report as a latex table. \"\"\"\n",
    "    report = re.sub(r' \\/ total', '', report)\n",
    "    report = re.sub(r'precision', 'Prec', report)\n",
    "    report = re.sub(r'recall', 'Rec', report)\n",
    "    report = re.sub(r'f1-score', 'F1', report)\n",
    "    report = re.sub(r'support', 'N', report)\n",
    "    table = ['\\\\begin{tabular}{|r|c|c|c|c|}', '\\\\hline']\n",
    "    lines = report.split('\\n')\n",
    "    for i, line in enumerate(lines):\n",
    "        parts = line.strip().split()\n",
    "        if len(parts) > 0:\n",
    "            if i == 0:\n",
    "                parts = [''] + ['{\\\\bf %s}' % p for p in parts]\n",
    "            else:\n",
    "                parts[0] = '{\\\\bf %s}' % parts[0]\n",
    "            table.append(' & '.join(parts) + '\\\\\\\\')\n",
    "        else:\n",
    "            table.append('\\\\hline')\n",
    "    table.append('\\\\end{tabular}')\n",
    "    of = open(outfile, 'wt')\n",
    "    of.write('\\n'.join(table))\n",
    "    \n",
    "clfreport_to_tex(classification_report(truths, preds, target_names=labels), 'cv.tex')"
   ]
  },
  {
   "cell_type": "code",
   "execution_count": 12,
   "metadata": {
    "collapsed": false
   },
   "outputs": [],
   "source": [
    "# Write top coef .tex table.\n",
    "def clean(s):\n",
    "    s = re.sub('HASHTAG_', '\\#', s)\n",
    "    s = re.sub('MENTION_', '@', s)\n",
    "    s = re.sub('THIS_IS_A_URL', 'URL', s)\n",
    "    s = re.sub(r'_', '\\\\_', s)\n",
    "    return s\n",
    "    \n",
    "def write_top_coef(clf, vocab, labels, outf, n=20):\n",
    "    out = open(outf, 'wt')\n",
    "    # coefs = [-clf.coef_[0], clf.coef_[0]]\n",
    "    coefs = clf.coef_\n",
    "    for li, label in enumerate(labels):\n",
    "        coef = coefs[li]\n",
    "        top_coef_ind = np.argsort(coef)[::-1][:n]\n",
    "        top_coef_terms = vocab[top_coef_ind]\n",
    "        out.write('{\\\\bf %s} & %s\\\\\\\\\\n\\hline\\n' % (label, ', '.join(clean(s) for s in top_coef_terms)))\n",
    "        \n",
    "write_top_coef(clf, features, labels, 'coef.tex', n=20)\n"
   ]
  },
  {
   "cell_type": "markdown",
   "metadata": {},
   "source": [
    "### Applying classifier"
   ]
  },
  {
   "cell_type": "markdown",
   "metadata": {},
   "source": [
    "Next, we classify all the unlabeled tweets using the classifier."
   ]
  },
  {
   "cell_type": "code",
   "execution_count": 13,
   "metadata": {
    "collapsed": true
   },
   "outputs": [],
   "source": [
    "X_raw = vectorizer.transform(t['text'] for t in raw_tweets)"
   ]
  },
  {
   "cell_type": "code",
   "execution_count": 14,
   "metadata": {
    "collapsed": false
   },
   "outputs": [],
   "source": [
    "#preds_raw = clf.predict(X_raw)\n",
    "#print('predicted label distribution on raw tweets: %s' % Counter(preds_raw).most_common(3))\n",
    "#for tweet, pred in zip(raw_tweets, preds_raw):\n",
    "#    tweet['sent'] = labels[pred]"
   ]
  },
  {
   "cell_type": "code",
   "execution_count": 15,
   "metadata": {
    "collapsed": false
   },
   "outputs": [
    {
     "name": "stdout",
     "output_type": "stream",
     "text": [
      "predicted label distribution on raw tweets: [(1, 537880), (2, 331359), (0, 123394)]\n",
      "adjusted predicted label distribution on raw tweets: [(1, 832878), (2, 103103), (0, 56652)]\n"
     ]
    }
   ],
   "source": [
    "# Set thresholds so that recall=.25  # xx precision >= .8\n",
    "neg_threshold = .5\n",
    "pos_threshold = .65\n",
    "# Relabel all unlabeled tweets.\n",
    "probas_raw = clf.predict_proba(X_raw)\n",
    "preds_raw = clf.predict(X_raw)\n",
    "\n",
    "def get_thresh_label(proba, pred, neg_t, pos_t):\n",
    "    if pred == 1:\n",
    "        return 1\n",
    "    elif pred == 0:\n",
    "        if proba[0] >= neg_t:\n",
    "            return pred\n",
    "        else:\n",
    "            return 1\n",
    "    else:\n",
    "        if proba[2] >= pos_t:\n",
    "            return pred\n",
    "        else:\n",
    "            return 1\n",
    "        \n",
    "print('predicted label distribution on raw tweets: %s' % Counter(preds_raw).most_common(3))\n",
    "preds_raw = np.array([get_thresh_label(proba, pred, neg_threshold, pos_threshold) for proba, pred in zip(probas_raw, preds_raw)])\n",
    "print('adjusted predicted label distribution on raw tweets: %s' % Counter(preds_raw).most_common(3))\n",
    "for tweet, pred in zip(raw_tweets, preds_raw):\n",
    "    tweet['sent'] = labels[pred]"
   ]
  },
  {
   "cell_type": "code",
   "execution_count": 16,
   "metadata": {
    "collapsed": false
   },
   "outputs": [
    {
     "name": "stdout",
     "output_type": "stream",
     "text": [
      "sentiment: pos / (pos + neg)=64.54%\n"
     ]
    }
   ],
   "source": [
    "sent_counts = Counter(preds_raw)\n",
    "print 'sentiment: pos / (pos + neg)=%.2f%%' % (100. * sent_counts[2] / (sent_counts[2] + sent_counts[0]))"
   ]
  },
  {
   "cell_type": "markdown",
   "metadata": {},
   "source": [
    "### Gender"
   ]
  },
  {
   "cell_type": "markdown",
   "metadata": {},
   "source": [
    "Next, we classify each user by gender using a list of names from the census."
   ]
  },
  {
   "cell_type": "code",
   "execution_count": 17,
   "metadata": {
    "collapsed": false
   },
   "outputs": [
    {
     "name": "stdout",
     "output_type": "stream",
     "text": [
      "found 232 male and 523 female names with cutoff=75.00\n",
      "removed 6 ambiguous names, leaving 226 males and 517 females\n"
     ]
    }
   ],
   "source": [
    "def get_gender_names(cutoff=75):\n",
    "    males_url = 'http://www2.census.gov/topics/genealogy/1990surnames/dist.male.first'\n",
    "    females_url = 'http://www2.census.gov/topics/genealogy/1990surnames/dist.female.first'\n",
    "    males = set([l.split()[0].lower() for l in requests.get(males_url).text.split('\\n') if l and float(l.split()[2]) < cutoff])\n",
    "    females = set([l.split()[0].lower() for l in requests.get(females_url).text.split('\\n') if l and float(l.split()[2]) < cutoff ])\n",
    "    print('found %d male and %d female names with cutoff=%.2f' % (len(males), len(females), cutoff))\n",
    "    return remove_ambiguous_names(males, females)\n",
    "\n",
    "def remove_ambiguous_names(male_names, female_names):\n",
    "    ambiguous = male_names & female_names\n",
    "    male_names -= ambiguous\n",
    "    female_names -= ambiguous\n",
    "    print('removed %d ambiguous names, leaving %d males and %d females' % (len(ambiguous), len(male_names), len(female_names)))\n",
    "    return male_names, female_names\n",
    "    \n",
    "male_names, female_names = get_gender_names()"
   ]
  },
  {
   "cell_type": "code",
   "execution_count": 18,
   "metadata": {
    "collapsed": false
   },
   "outputs": [
    {
     "name": "stdout",
     "output_type": "stream",
     "text": [
      "overall gender distribution=[('unknown', 732856), ('male', 156902), ('female', 102875)]\n"
     ]
    }
   ],
   "source": [
    "def label_genders(tweets, male_names, female_names):\n",
    "    for t in tweets:\n",
    "        if len(t['real_name'])>1:\n",
    "            first = t['real_name'].split()[0].lower()\n",
    "        else:\n",
    "            first = t['real_name'].lower()\n",
    "        if first in male_names:\n",
    "            t['gender'] = 'male'\n",
    "        elif first in female_names:\n",
    "            t['gender'] = 'female'\n",
    "        else:\n",
    "            t['gender'] = 'unknown'\n",
    "label_genders(raw_tweets, male_names, female_names)\n",
    "print('overall gender distribution=%s' % Counter(t['gender'] for t in raw_tweets).most_common(3))"
   ]
  },
  {
   "cell_type": "code",
   "execution_count": 19,
   "metadata": {
    "collapsed": false
   },
   "outputs": [
    {
     "name": "stdout",
     "output_type": "stream",
     "text": [
      "most common male names: [('Mark', 9017), ('Paul', 4531), ('John', 4393), ('Michael', 3748), ('Chris', 3662), ('Adam', 3539), ('Alex', 3215), ('Gregory', 2916), ('David', 2747), ('James', 2732)]\n",
      "most common female names: [('Sarah', 2007), ('Ashley', 1399), ('Jessica', 1320), ('Emily', 1318), ('Rachel', 1212), ('Amanda', 1208), ('Katie', 1121), ('Laura', 1116), ('Mandy', 1087), ('Lauren', 1084)]\n",
      "most common unknown names: [('Electronic', 15305), ('Dragonfly', 14279), ('The', 5898), ('Lewisville', 4837), ('g', 4588), ('Vapornine', 4105), ('Matt', 3573), ('?', 3237), ('DFW', 2904), ('Nick', 2466)]\n"
     ]
    }
   ],
   "source": [
    "print('most common male names: %s' % Counter(t['real_name'].split()[0] for t in raw_tweets if t['gender'] == 'male').most_common(10))\n",
    "print('most common female names: %s' % Counter(t['real_name'].split()[0] for t in raw_tweets if t['gender'] == 'female').most_common(10))\n",
    "print('most common unknown names: %s' % Counter(t['real_name'].split()[0] for t in raw_tweets if t['real_name'] and t['gender'] == 'unknown').most_common(10))"
   ]
  },
  {
   "cell_type": "markdown",
   "metadata": {},
   "source": [
    "### Age"
   ]
  },
  {
   "cell_type": "markdown",
   "metadata": {},
   "source": [
    "To guess age from a user's name, we use the idea from from [Nate Silver's](https://twitter.com/FiveThirtyEight) recent article on [How to Tell Someone's Age When All you Know is Her Name](http://fivethirtyeight.com/features/how-to-tell-someones-age-when-all-you-know-is-her-name/). We borrow from [this notebook](https://github.com/ramnathv/agebyname_py) by [@ramnathv](https://github.com/ramnathv)."
   ]
  },
  {
   "cell_type": "markdown",
   "metadata": {},
   "source": [
    "First, we download a list of [baby names](http://www.ssa.gov/oact/babynames/names.zip) provided by the SSA."
   ]
  },
  {
   "cell_type": "code",
   "execution_count": 20,
   "metadata": {
    "collapsed": false
   },
   "outputs": [
    {
     "data": {
      "text/plain": [
       "('/data/chs15/names.zip', <httplib.HTTPMessage instance at 0x1202e3098>)"
      ]
     },
     "execution_count": 20,
     "metadata": {},
     "output_type": "execute_result"
    }
   ],
   "source": [
    "import urllib\n",
    "names_file = DATA + '/names.zip'\n",
    "urllib.urlretrieve('http://www.ssa.gov/oact/babynames/names.zip', DATA + '/names.zip')"
   ]
  },
  {
   "cell_type": "code",
   "execution_count": 21,
   "metadata": {
    "collapsed": false
   },
   "outputs": [
    {
     "data": {
      "text/html": [
       "<div style=\"max-height:1000px;max-width:1500px;overflow:auto;\">\n",
       "<table border=\"1\" class=\"dataframe\">\n",
       "  <thead>\n",
       "    <tr style=\"text-align: right;\">\n",
       "      <th></th>\n",
       "      <th>name</th>\n",
       "      <th>sex</th>\n",
       "      <th>n</th>\n",
       "      <th>year</th>\n",
       "    </tr>\n",
       "  </thead>\n",
       "  <tbody>\n",
       "    <tr>\n",
       "      <th>0</th>\n",
       "      <td>Mary</td>\n",
       "      <td>F</td>\n",
       "      <td>7065</td>\n",
       "      <td>1880</td>\n",
       "    </tr>\n",
       "    <tr>\n",
       "      <th>1</th>\n",
       "      <td>Anna</td>\n",
       "      <td>F</td>\n",
       "      <td>2604</td>\n",
       "      <td>1880</td>\n",
       "    </tr>\n",
       "    <tr>\n",
       "      <th>2</th>\n",
       "      <td>Emma</td>\n",
       "      <td>F</td>\n",
       "      <td>2003</td>\n",
       "      <td>1880</td>\n",
       "    </tr>\n",
       "    <tr>\n",
       "      <th>3</th>\n",
       "      <td>Elizabeth</td>\n",
       "      <td>F</td>\n",
       "      <td>1939</td>\n",
       "      <td>1880</td>\n",
       "    </tr>\n",
       "    <tr>\n",
       "      <th>4</th>\n",
       "      <td>Minnie</td>\n",
       "      <td>F</td>\n",
       "      <td>1746</td>\n",
       "      <td>1880</td>\n",
       "    </tr>\n",
       "  </tbody>\n",
       "</table>\n",
       "</div>"
      ],
      "text/plain": [
       "        name sex     n  year\n",
       "0       Mary   F  7065  1880\n",
       "1       Anna   F  2604  1880\n",
       "2       Emma   F  2003  1880\n",
       "3  Elizabeth   F  1939  1880\n",
       "4     Minnie   F  1746  1880"
      ]
     },
     "execution_count": 21,
     "metadata": {},
     "output_type": "execute_result"
    }
   ],
   "source": [
    "# Read list of names.\n",
    "import pandas as pd\n",
    "from zipfile import ZipFile\n",
    "\n",
    "def read_names(f, zf):\n",
    "  data = pd.read_csv(zf.open(f), header = None, names = ['name', 'sex', 'n'])\n",
    "  data['year'] = int(re.findall(r'\\d+', f)[0])\n",
    "  return data\n",
    "  \n",
    "names_zip = ZipFile(names_file)\n",
    "bnames = pd.concat([read_names(f, names_zip) for f in names_zip.namelist() if f.endswith('.txt')])\n",
    "names_ =  set(bnames.name)\n",
    "bnames.head()"
   ]
  },
  {
   "cell_type": "markdown",
   "metadata": {},
   "source": [
    "Next we parse the [cohort life tables](http://www.ssa.gov/oact/NOTES/as120/LifeTables_Tbl_7.html) provided by SSA, using @ramnathv's export."
   ]
  },
  {
   "cell_type": "code",
   "execution_count": 22,
   "metadata": {
    "collapsed": false
   },
   "outputs": [
    {
     "data": {
      "text/html": [
       "<div style=\"max-height:1000px;max-width:1500px;overflow:auto;\">\n",
       "<table border=\"1\" class=\"dataframe\">\n",
       "  <thead>\n",
       "    <tr style=\"text-align: right;\">\n",
       "      <th></th>\n",
       "      <th></th>\n",
       "      <th>lx</th>\n",
       "      <th>sex</th>\n",
       "      <th>year</th>\n",
       "    </tr>\n",
       "  </thead>\n",
       "  <tbody>\n",
       "    <tr>\n",
       "      <th rowspan=\"5\" valign=\"top\">0</th>\n",
       "      <th>0</th>\n",
       "      <td>0.0</td>\n",
       "      <td>F</td>\n",
       "      <td>1900</td>\n",
       "    </tr>\n",
       "    <tr>\n",
       "      <th>1</th>\n",
       "      <td>19.1</td>\n",
       "      <td>F</td>\n",
       "      <td>1901</td>\n",
       "    </tr>\n",
       "    <tr>\n",
       "      <th>2</th>\n",
       "      <td>38.2</td>\n",
       "      <td>F</td>\n",
       "      <td>1902</td>\n",
       "    </tr>\n",
       "    <tr>\n",
       "      <th>3</th>\n",
       "      <td>57.3</td>\n",
       "      <td>F</td>\n",
       "      <td>1903</td>\n",
       "    </tr>\n",
       "    <tr>\n",
       "      <th>4</th>\n",
       "      <td>76.4</td>\n",
       "      <td>F</td>\n",
       "      <td>1904</td>\n",
       "    </tr>\n",
       "  </tbody>\n",
       "</table>\n",
       "</div>"
      ],
      "text/plain": [
       "       lx sex  year\n",
       "0 0   0.0   F  1900\n",
       "  1  19.1   F  1901\n",
       "  2  38.2   F  1902\n",
       "  3  57.3   F  1903\n",
       "  4  76.4   F  1904"
      ]
     },
     "execution_count": 22,
     "metadata": {},
     "output_type": "execute_result"
    }
   ],
   "source": [
    "from scipy.interpolate import interp1d\n",
    "\n",
    "lifetables = pd.read_csv(DATA + '/lifetables.csv')\n",
    "lifetables_2014 = lifetables[lifetables['year'] + lifetables['x'] == 2014]\n",
    "lifetables_2014.head()\n",
    "\n",
    "# interpolate gaps\n",
    "def process(d, kind = 'slinear'):\n",
    "  f = interp1d(d.year, d.lx, kind)\n",
    "  year = np.arange(1900, 2011)\n",
    "  lx = f(year)\n",
    "  return pd.DataFrame({\"year\": year, \"lx\": lx, \"sex\": d.sex.iloc[1]})\n",
    "\n",
    "lifetable_2014 = lifetables_2014.\\\n",
    "  groupby('sex', as_index = False).\\\n",
    "  apply(process)\n",
    "lifetable_2014.head()"
   ]
  },
  {
   "cell_type": "markdown",
   "metadata": {},
   "source": [
    "Finally, we use the [live births data](http://www.census.gov/statab/hist/02HS0013.xls) from the census to extrapolate the birth data to account for the correct that not all births were recorded by SSA till around 1930, since it wasn't mandatory."
   ]
  },
  {
   "cell_type": "code",
   "execution_count": 23,
   "metadata": {
    "collapsed": false
   },
   "outputs": [
    {
     "name": "stdout",
     "output_type": "stream",
     "text": [
      "   year  births\n",
      "0  1909    2718\n",
      "1  1910    2777\n",
      "2  1911    2809\n",
      "3  1912    2840\n",
      "4  1913    2869\n",
      "   year       cor\n",
      "0  1909  5.316621\n",
      "1  1910  4.701051\n",
      "2  1911  4.359994\n",
      "3  1912  2.874354\n",
      "4  1913  2.523141\n"
     ]
    }
   ],
   "source": [
    "# Download the data and add a correction factor.\n",
    "urllib.urlretrieve(\"http://www.census.gov/statab/hist/02HS0013.xls\", DATA + \"/02HS0013.xls\")\n",
    "dat = pd.read_excel(DATA + '/02HS0013.xls', sheetname = 'HS-13', skiprows = range(14))\n",
    "tot_births = dat.ix[9:101,:2].reset_index(drop = True)\n",
    "tot_births.columns = ['year', 'births']\n",
    "tot_births = tot_births.convert_objects(convert_numeric = True)\n",
    "print tot_births.head()\n",
    "# Correction factors.\n",
    "cor_factors = bnames.groupby('year', as_index = False).sum().merge(tot_births)\n",
    "cor_factors['cor'] = cor_factors['births']*1000/cor_factors['n']\n",
    "cor_factors = cor_factors[['year', 'cor']]\n",
    "cor_new = pd.DataFrame({\n",
    "  'year': range(2002, 2014),\n",
    "  'cor': cor_factors.cor.iloc[-1]\n",
    "})\n",
    "cor_factors = pd.concat([cor_factors, cor_new])[['year', 'cor']]\n",
    "print cor_factors.head()"
   ]
  },
  {
   "cell_type": "code",
   "execution_count": 24,
   "metadata": {
    "collapsed": true
   },
   "outputs": [],
   "source": [
    "# For efficiency, define name as index of the table\n",
    "bname= bnames.set_index(['name'], inplace=True)"
   ]
  },
  {
   "cell_type": "code",
   "execution_count": 25,
   "metadata": {
    "collapsed": false
   },
   "outputs": [
    {
     "name": "stdout",
     "output_type": "stream",
     "text": [
      "Joseph\n",
      "    sex     n  year       cor       lx        n_cor      n_alive\n",
      "193   F     7  2007  1.076384  99351.7     7.534690     7.485842\n",
      "194   M  2820  2007  1.076384  99221.6  3035.403577  3011.775996\n",
      "195   M  2783  2008  1.076384  99256.4  2995.577360  2973.302247\n",
      "196   M  2979  2009  1.076384  99291.2  3206.548673  3183.820656\n",
      "197   M  2898  2010  1.076384  99326.0  3119.361549  3098.337052\n",
      "Irene\n",
      "    sex    n  year       cor       lx       n_cor     n_alive\n",
      "169   F  492  2006  1.076384  99324.6  529.581050  526.004259\n",
      "170   F  467  2007  1.076384  99351.7  502.671443  499.412624\n",
      "171   F  482  2008  1.076384  99378.8  518.817207  515.594315\n",
      "172   F  479  2009  1.076384  99405.9  515.588054  512.524946\n",
      "173   F  408  2010  1.076384  99433.0  439.164773  436.674709\n"
     ]
    }
   ],
   "source": [
    "# This function tells the number of births and number of people alive. \n",
    "def get_data(name):\n",
    "    dat = bnames\n",
    "    dat = dat.loc[name]\n",
    "    if type(dat) == pd.Series:\n",
    "        m = pd.DataFrame(bnames.loc[name]).transpose()\n",
    "    else:\n",
    "        m = dat\n",
    "    data =   m.\\\n",
    "            merge(cor_factors).\\\n",
    "            merge(lifetable_2014)\n",
    "    data['n_cor'] = data['n']*data['cor']\n",
    "    data['n_alive'] = data['lx']/(10**5)*data['n_cor']\n",
    "    return data\n",
    "\n",
    "print('Joseph')\n",
    "print get_data('Edward').tail()\n",
    "print('Irene')\n",
    "print get_data('Irene').tail()"
   ]
  },
  {
   "cell_type": "code",
   "execution_count": 26,
   "metadata": {
    "collapsed": false
   },
   "outputs": [
    {
     "name": "stdout",
     "output_type": "stream",
     "text": [
      "Irene\n",
      "{'35-44': 5.9900770087280355, '>=45': 79.96979901362864, '18-24': 2.768896935891503, '25-34': 5.300358368654281, '<18': 5.970868673097543}\n",
      "Michael\n",
      "{'35-44': 21.724002632069023, '>=45': 33.05996262251043, '18-24': 10.25125353909169, '25-34': 21.20556963381044, '<18': 13.759211572518417}\n",
      "Payton\n",
      "{'35-44': 0.4265604073936273, '>=45': 0.5359894837394966, '18-24': 6.8700057813423445, '25-34': 1.2200035112432313, '<18': 90.9474408162813}\n"
     ]
    }
   ],
   "source": [
    "# Now we can map each name to a distribution over age brackets.\n",
    "def first_name(name):\n",
    "    if len(name) > 1:\n",
    "        name = name.split()[0].lower().title()\n",
    "    else:\n",
    "        name = name.lower().title()\n",
    "    return name\n",
    "\n",
    "\n",
    "def age_brackets(name):    \n",
    "    name = first_name(name)\n",
    "    dic = defaultdict(list)\n",
    "    #\n",
    "    s=0 \n",
    "    s1=0\n",
    "    s2=0\n",
    "    s3=0\n",
    "    s4=0\n",
    "    s5=0\n",
    "    #fraction of percentages\n",
    "    f=0  \n",
    "    f1=0\n",
    "    f2=0\n",
    "    f3=0\n",
    "    f4=0    \n",
    "    f5=0\n",
    "    \n",
    "    m = get_data(name).as_matrix()\n",
    "    if len(m) != 0:\n",
    "        for t in m:\n",
    "            if t[2]>=1996: # 0-18\n",
    "                s = s+t[1]\n",
    "                f = f + t[6]\n",
    "                dic['<18'] = f\n",
    "            elif t[2] >= 1990 and t[3]<=1995: #19-24\n",
    "                s1 = s1+t[1]\n",
    "                f1 = f1 + t[6]\n",
    "                dic['18-24'] = f1\n",
    "            elif t[2] >= 1980 and t[3]<=1989: #25-34\n",
    "                s2 = s2+t[1]\n",
    "                f2 = f2 + t[6]\n",
    "                dic['25-34'] = f2\n",
    "            elif t[2] >= 1970 and t[3]<=1979: #35-44\n",
    "                s3 = s3+t[1]\n",
    "                f3 = f3 + t[6]\n",
    "                dic['35-44'] = f3\n",
    "            elif t[2] <= 1960 :#and t[2] <= 1969: #45-54\n",
    "                s4 = s4+t[1]\n",
    "                f4 = f4 + t[6]\n",
    "                dic['>=45'] = f4\n",
    "        total = sum(dic.values())\n",
    "        return dict([(k, 1.*v/total*100) for k, v in dic.iteritems()])\n",
    "    \n",
    "print('Irene')\n",
    "print age_brackets('Irene')\n",
    "print('Michael')\n",
    "print age_brackets('Michael')\n",
    "print('Payton')\n",
    "print age_brackets('Payton')"
   ]
  },
  {
   "cell_type": "code",
   "execution_count": 27,
   "metadata": {
    "collapsed": false,
    "scrolled": true
   },
   "outputs": [
    {
     "name": "stdout",
     "output_type": "stream",
     "text": [
      "processed 0 tweets\n",
      "processed 10000 tweets\n",
      "processed 20000 tweets\n",
      "processed 30000 tweets\n",
      "processed 40000 tweets\n",
      "processed 50000 tweets\n",
      "processed 60000 tweets\n",
      "processed 70000 tweets\n",
      "processed 80000 tweets\n",
      "processed 90000 tweets\n",
      "processed 100000 tweets\n",
      "processed 110000 tweets\n",
      "processed 120000 tweets\n",
      "processed 130000 tweets\n",
      "processed 140000 tweets\n",
      "processed 150000 tweets\n",
      "processed 160000 tweets\n",
      "processed 170000 tweets\n",
      "processed 180000 tweets\n",
      "processed 190000 tweets\n",
      "processed 200000 tweets\n",
      "processed 210000 tweets\n",
      "processed 220000 tweets\n",
      "processed 230000 tweets\n",
      "processed 240000 tweets\n",
      "processed 250000 tweets\n",
      "processed 260000 tweets\n",
      "processed 270000 tweets\n",
      "processed 280000 tweets\n",
      "processed 290000 tweets\n",
      "processed 300000 tweets\n",
      "processed 310000 tweets\n",
      "processed 320000 tweets\n",
      "processed 330000 tweets\n",
      "processed 340000 tweets\n",
      "processed 350000 tweets\n",
      "processed 360000 tweets\n",
      "processed 370000 tweets\n",
      "processed 380000 tweets\n",
      "processed 390000 tweets\n",
      "processed 400000 tweets\n",
      "processed 410000 tweets\n",
      "processed 420000 tweets\n",
      "processed 430000 tweets\n",
      "processed 440000 tweets\n",
      "processed 450000 tweets\n",
      "processed 460000 tweets\n",
      "processed 470000 tweets\n",
      "processed 480000 tweets\n",
      "processed 490000 tweets\n",
      "processed 500000 tweets\n",
      "processed 510000 tweets\n",
      "processed 520000 tweets\n",
      "processed 530000 tweets\n",
      "processed 540000 tweets\n",
      "processed 550000 tweets\n",
      "processed 560000 tweets\n",
      "processed 570000 tweets\n",
      "processed 580000 tweets\n",
      "processed 590000 tweets\n",
      "processed 600000 tweets\n",
      "processed 610000 tweets\n",
      "processed 620000 tweets\n",
      "processed 630000 tweets\n",
      "processed 640000 tweets\n",
      "processed 650000 tweets\n",
      "processed 660000 tweets\n",
      "processed 670000 tweets\n",
      "processed 680000 tweets\n",
      "processed 690000 tweets\n",
      "processed 700000 tweets\n",
      "processed 710000 tweets\n",
      "processed 720000 tweets\n",
      "processed 730000 tweets\n",
      "processed 740000 tweets\n",
      "processed 750000 tweets\n",
      "processed 760000 tweets\n",
      "processed 770000 tweets\n",
      "processed 780000 tweets\n",
      "processed 790000 tweets\n",
      "processed 800000 tweets\n",
      "processed 810000 tweets\n",
      "processed 820000 tweets\n",
      "processed 830000 tweets\n",
      "processed 840000 tweets\n",
      "processed 850000 tweets\n",
      "processed 860000 tweets\n",
      "processed 870000 tweets\n",
      "processed 880000 tweets\n",
      "processed 890000 tweets\n",
      "processed 900000 tweets\n",
      "processed 910000 tweets\n",
      "processed 920000 tweets\n",
      "processed 930000 tweets\n",
      "processed 940000 tweets\n",
      "processed 950000 tweets\n",
      "processed 960000 tweets\n",
      "processed 970000 tweets\n",
      "processed 980000 tweets\n",
      "processed 990000 tweets\n"
     ]
    }
   ],
   "source": [
    "def label_ages(tweets, valid_names):\n",
    "    name_cache = {}\n",
    "    for ti, t in enumerate(tweets):\n",
    "        name = first_name(t['real_name'])\n",
    "        if name in valid_names:\n",
    "            if name in name_cache:\n",
    "                distr = name_cache[name]\n",
    "            else:\n",
    "                distr = age_brackets(name)\n",
    "                name_cache[name] = distr\n",
    "            t['ages'] = distr\n",
    "        \n",
    "        if ti % 10000 == 0:\n",
    "            print('processed %d tweets' % ti)\n",
    "        ti += 1\n",
    "        \n",
    "label_ages(raw_tweets, names_)"
   ]
  },
  {
   "cell_type": "code",
   "execution_count": 28,
   "metadata": {
    "collapsed": false
   },
   "outputs": [
    {
     "name": "stdout",
     "output_type": "stream",
     "text": [
      "overall ages:\n",
      "25-34\t0.16\n",
      ">=45\t0.27\n",
      "18-24\t0.12\n",
      "35-44\t0.14\n",
      "<18\t0.30\n"
     ]
    }
   ],
   "source": [
    "def add_to_dict(d, d1):\n",
    "    for k in d1:\n",
    "        d[k] += d1[k]\n",
    "    \n",
    "all_ages = defaultdict(lambda: 0)\n",
    "for t in raw_tweets:\n",
    "    if 'ages' in t and t['ages']:\n",
    "        add_to_dict(all_ages, t['ages'])\n",
    "        \n",
    "print 'overall ages:'\n",
    "for k, v in all_ages.iteritems():\n",
    "    print('%s\\t%.2f' % (k, v / sum(all_ages.values())))"
   ]
  },
  {
   "cell_type": "code",
   "execution_count": 29,
   "metadata": {
    "collapsed": false
   },
   "outputs": [
    {
     "name": "stdout",
     "output_type": "stream",
     "text": [
      "<18 210325\n",
      "18-24 13613\n",
      "25-34 61475\n",
      "35-44 46411\n",
      ">=45 204490\n"
     ]
    }
   ],
   "source": [
    "# Assign each tweet its most probable age.\n",
    "age_counts = defaultdict(lambda: 0)\n",
    "for t in raw_tweets:\n",
    "    if 'ages' in t and t['ages'] is not None and len(t['ages']) > 0:\n",
    "        items = t['ages'].items()\n",
    "        pred_age = items[np.argmax([it[1] for it in items])][0]\n",
    "        t['pred_age'] = pred_age\n",
    "        age_counts[pred_age] += 1\n",
    "    \n",
    "for a in ['<18', '18-24', '25-34', '35-44', '>=45']:\n",
    "    print a, age_counts[a]"
   ]
  },
  {
   "cell_type": "code",
   "execution_count": 30,
   "metadata": {
    "collapsed": true
   },
   "outputs": [],
   "source": [
    "# Save our annotated tweets.\n",
    "cPickle.dump(raw_tweets, open(DATA + '/raw_tweets.pkl', 'wb'))"
   ]
  },
  {
   "cell_type": "markdown",
   "metadata": {},
   "source": [
    "### Figures"
   ]
  },
  {
   "cell_type": "markdown",
   "metadata": {},
   "source": [
    "Next we create a number of figures to explore how ecig sentiment varies by time, gender, and age."
   ]
  },
  {
   "cell_type": "code",
   "execution_count": 31,
   "metadata": {
    "collapsed": false
   },
   "outputs": [],
   "source": [
    "def format_month(datestring):\n",
    "    \"\"\" Input, e.g., 10/1/2012\n",
    "    Output, e.g., 2012-10\"\"\"\n",
    "    parts = datestring.split()\n",
    "    if len(parts) > 1:\n",
    "        datestring = parts[0]\n",
    "        parts = datestring.split('/')\n",
    "        if len(parts) == 3:\n",
    "            s = (parts[2] if len(parts[2]) == 4 else '20' + parts[2]) + \\\n",
    "            '-' + (parts[0] if len(parts[0]) == 2 else '0' + parts[0])\n",
    "            return datetime.datetime.strptime(s, \"%Y-%m\").date()\n",
    "    return None\n",
    "\n",
    "def group_by_month(tweets):\n",
    "    by_month = defaultdict(lambda: [])\n",
    "    for t in tweets:\n",
    "        t['month'] = format_month(t['posted_time'])\n",
    "        by_month[t['month']].append(t)\n",
    "    return by_month\n",
    "    \n",
    "by_month = group_by_month(raw_tweets)"
   ]
  },
  {
   "cell_type": "code",
   "execution_count": 32,
   "metadata": {
    "collapsed": false
   },
   "outputs": [
    {
     "name": "stdout",
     "output_type": "stream",
     "text": [
      "2012-10-01\t30026\n",
      "2012-11-01\t36995\n",
      "2012-12-01\t46271\n",
      "2013-01-01\t62883\n",
      "2013-02-01\t65971\n",
      "2013-03-01\t90870\n",
      "2013-04-01\t110735\n",
      "2013-05-01\t84692\n",
      "2013-06-01\t96447\n",
      "2013-07-01\t94180\n",
      "2013-08-01\t114894\n",
      "2013-09-01\t158669\n"
     ]
    }
   ],
   "source": [
    "print '\\n'.join(['%s\\t%d' % (m, len(by_month[m])) for m in sorted(by_month)])"
   ]
  },
  {
   "cell_type": "code",
   "execution_count": 33,
   "metadata": {
    "collapsed": true
   },
   "outputs": [],
   "source": [
    "def check_keyvals(t, keyvals):\n",
    "    for keyval in keyvals:\n",
    "        if keyval[0] not in t or t[keyval[0]] != keyval[1]:\n",
    "            return False\n",
    "    return True\n",
    "\n",
    "def filter_tweets(tweets, ignore_rt=True, uniq_users=True, uniq_tweets=True, keyvals=None):\n",
    "    return np.array(tweets)[filter_tweets_ind(tweets, ignore_rt, uniq_users, uniq_tweets, keyvals)]\n",
    "\n",
    "def filter_tweets_ind(tweets, ignore_rt=True, uniq_users=True, uniq_tweets=True, keyvals=None):\n",
    "    users = set()\n",
    "    indices = []\n",
    "    for i, t in enumerate(tweets):\n",
    "        if ignore_rt and t['text'][:2] == 'RT':\n",
    "            continue\n",
    "        elif uniq_tweets and not t['unique']:\n",
    "            continue\n",
    "        elif uniq_users and t['username'] in users:\n",
    "            continue\n",
    "        else:\n",
    "            if keyvals and not check_keyvals(t, keyvals):\n",
    "                continue\n",
    "            users.add(t['username'])\n",
    "            indices.append(i)\n",
    "    return indices"
   ]
  },
  {
   "cell_type": "code",
   "execution_count": 34,
   "metadata": {
    "collapsed": false
   },
   "outputs": [],
   "source": [
    "def count_tweets(by_month, ignore_rt=True, uniq_users=True, uniq_tweets=True, keyvals=None):\n",
    "    vals = []\n",
    "    for month in sorted(by_month):\n",
    "        vals.append(len(filter_tweets(by_month[month], ignore_rt, uniq_users, uniq_tweets, keyvals)))\n",
    "    return np.array(vals)"
   ]
  },
  {
   "cell_type": "code",
   "execution_count": 35,
   "metadata": {
    "collapsed": true
   },
   "outputs": [],
   "source": [
    "def get_lines():\n",
    "    markers = ['o', '^', 's', '*', 'D', '^', 's', '*', 'D', 'o']\n",
    "    lines = ['-', '--', '-.', ':'] * 3\n",
    "    return itertools.cycle(['%s%s' % (m, l) for l, m in zip(lines, markers)])"
   ]
  },
  {
   "cell_type": "code",
   "execution_count": 36,
   "metadata": {
    "collapsed": false
   },
   "outputs": [
    {
     "name": "stdout",
     "output_type": "stream",
     "text": [
      "male 63.4885764499\n",
      "female 61.6357003478\n",
      "<18 62.0958394948\n",
      "18-24 66.5975103734\n",
      "25-34 62.0661270407\n",
      "35-44 64.4798500469\n",
      ">=45 63.8186064617\n"
     ]
    },
    {
     "data": {
      "image/png": "[encoded data removed]",
      "text/plain": [
       "<matplotlib.figure.Figure at 0x11bfcb090>"
      ]
     },
     "metadata": {},
     "output_type": "display_data"
    }
   ],
   "source": [
    "def plot_frac_pos(raw_tweets):\n",
    "    male_pos = len(filter_tweets(raw_tweets, keyvals=[['sent', 'positive'], ['gender', 'male']]))\n",
    "    male_neg = len(filter_tweets(raw_tweets, keyvals=[['sent', 'negative'], ['gender', 'male']]))\n",
    "    male_pos_frac = 100. * male_pos / (male_pos + male_neg)\n",
    "\n",
    "    \n",
    "    female_pos = len(filter_tweets(raw_tweets, keyvals=[['sent', 'positive'], ['gender', 'female']]))\n",
    "    female_neg = len(filter_tweets(raw_tweets, keyvals=[['sent', 'negative'], ['gender', 'female']]))\n",
    "    female_pos_frac = 100. * female_pos / (female_pos + female_neg)\n",
    "    print 'male', male_pos_frac\n",
    "    print 'female', female_pos_frac\n",
    "    vals = [female_pos_frac, male_pos_frac]\n",
    "    ages = ['<18', '18-24', '25-34', '35-44', '>=45']\n",
    "    for a in ages:\n",
    "        frac_pos = len(filter_tweets(raw_tweets, keyvals=[['sent', 'positive'], ['pred_age', a]]))\n",
    "        frac_neg = len(filter_tweets(raw_tweets, keyvals=[['sent', 'negative'], ['pred_age', a]]))\n",
    "        frac = 100. * frac_pos / (frac_pos + frac_neg)\n",
    "        print a, frac\n",
    "        vals.append(frac)\n",
    "        \n",
    "    plt.figure()\n",
    "    xvals = np.arange(len(ages) + 2)\n",
    "    plt.bar(xvals, vals, .4)\n",
    "    plt.xticks(xvals + .1, ['Female', 'Male'] + ages, size=16)\n",
    "    plt.ylabel('% positive', size=16)\n",
    "    plt.xticks(rotation=70) \n",
    "    plt.savefig('pct_pos.pdf', bbox_inches='tight')\n",
    "    plt.show()\n",
    "        \n",
    "    \n",
    "plot_frac_pos(raw_tweets)"
   ]
  },
  {
   "cell_type": "code",
   "execution_count": 37,
   "metadata": {
    "collapsed": false
   },
   "outputs": [
    {
     "name": "stdout",
     "output_type": "stream",
     "text": [
      "total tweets after all filtering: 455648\n",
      "tweets per month after filtering: [(datetime.date(2012, 10, 1), 16172), (datetime.date(2012, 11, 1), 18421), (datetime.date(2012, 12, 1), 20960), (datetime.date(2013, 1, 1), 31159), (datetime.date(2013, 2, 1), 31685), (datetime.date(2013, 3, 1), 41070), (datetime.date(2013, 4, 1), 37283), (datetime.date(2013, 5, 1), 39293), (datetime.date(2013, 6, 1), 47524), (datetime.date(2013, 7, 1), 45658), (datetime.date(2013, 8, 1), 55373), (datetime.date(2013, 9, 1), 71050)]\n"
     ]
    },
    {
     "data": {
      "image/png": "[encoded data removed]",
      "text/plain": [
       "<matplotlib.figure.Figure at 0x1255759d0>"
      ]
     },
     "metadata": {},
     "output_type": "display_data"
    }
   ],
   "source": [
    "def plot_raw_counts(by_month):\n",
    "    linecycler = get_lines()\n",
    "    months = [d for d in sorted(by_month)]\n",
    "    plt.figure(figsize=(7,5))\n",
    "    ax = plt.subplot(111)\n",
    "    ax.plot(months, count_tweets(by_month, ignore_rt=False, uniq_users=False, uniq_tweets=False), next(linecycler), label='all')\n",
    "    ax.plot(months, count_tweets(by_month, ignore_rt=True, uniq_users=False, uniq_tweets=False), next(linecycler), label='no retweets')\n",
    "    ax.plot(months, count_tweets(by_month, ignore_rt=True, uniq_users=False, uniq_tweets=True), next(linecycler), label='unique tweets')\n",
    "    ax.plot(months, count_tweets(by_month, ignore_rt=False, uniq_users=True, uniq_tweets=False), next(linecycler), label='unique users')\n",
    "    ax.plot(months, count_tweets(by_month, ignore_rt=True, uniq_users=True, uniq_tweets=True), next(linecycler), label='no retweets, unique tweets, unique users')\n",
    "    ax.xaxis_date()\n",
    "    plt.xticks(rotation=70) \n",
    "    plt.ylim((0, 200000))\n",
    "    plt.legend(loc='upper left')\n",
    "    plt.ylabel('# tweets', size=16)\n",
    "    plt.savefig('raw_counts.pdf', bbox_inches='tight')\n",
    "    print 'total tweets after all filtering:', sum(count_tweets(by_month, ignore_rt=True, uniq_users=True, uniq_tweets=True))\n",
    "    print 'tweets per month after filtering:', zip(months, count_tweets(by_month, ignore_rt=True, uniq_users=True, uniq_tweets=True))\n",
    "    plt.show()\n",
    "    \n",
    "plot_raw_counts(by_month)"
   ]
  },
  {
   "cell_type": "code",
   "execution_count": 38,
   "metadata": {
    "collapsed": false
   },
   "outputs": [
    {
     "name": "stdout",
     "output_type": "stream",
     "text": [
      "percent positive by month: [ 65.84835301  66.10682819  68.61435726  66.13458529  66.25246249\n",
      "  61.11111111  66.072295    68.43559342  71.63416899  74.223473\n",
      "  71.60621762  64.98935415]\n",
      "coef= [ 0.41369868]\n"
     ]
    },
    {
     "data": {
      "image/png": "[encoded data removed]",
      "text/plain": [
       "<matplotlib.figure.Figure at 0x125553410>"
      ]
     },
     "metadata": {},
     "output_type": "display_data"
    }
   ],
   "source": [
    "def plot_sentiment(by_month):\n",
    "    months = [d for d in sorted(by_month)]\n",
    "    plt.figure(figsize=(7,5))\n",
    "    ax = plt.subplot(111)\n",
    "    all_counts = count_tweets(by_month)\n",
    "    pos_counts = count_tweets(by_month, keyvals=[['sent', 'positive']])\n",
    "    neg_counts = count_tweets(by_month, keyvals=[['sent', 'negative']])\n",
    "    # neut_counts = count_tweets(by_month, keyvals=[['sent', 'neutral']])\n",
    "    pos_fraction = 100. * pos_counts / (pos_counts + neg_counts)\n",
    "    #pos_fraction = 100. * np.array(pos_counts) / np.array(all_counts)\n",
    "    # ax.plot(months, all_counts , 'ko-', label='all')\n",
    "    #ax.plot(months, neut_counts , 'ko-', label='neutral')\n",
    "    ax.plot(months, pos_counts, 'g^--', label='positive')\n",
    "    ax.plot(months, neg_counts, 'rs-.', label='negative')\n",
    "\n",
    "    ax.xaxis_date()\n",
    "    plt.xticks(rotation=70) \n",
    "    plt.legend(loc='upper left')\n",
    "\n",
    "    ax2 = ax.twinx()\n",
    "    ax2.plot(months, pos_fraction, 'bD:')\n",
    "    print 'percent positive by month:', pos_fraction\n",
    "    m = LinearRegression()\n",
    "    m.fit([[x] for x in range(1, len(pos_fraction) + 1)], pos_fraction)\n",
    "    print 'coef=', m.coef_\n",
    "    ax2.set_ylabel('% positive', color='b', size=16)\n",
    "    ax2.set_ylim((40, 80))\n",
    "    for tl in ax2.get_yticklabels():\n",
    "        tl.set_color('b')\n",
    "\n",
    "    ax.set_ylabel('# tweets', size=16)\n",
    "    plt.savefig('sentiment.pdf', bbox_inches='tight')\n",
    "    plt.show()    \n",
    "    \n",
    "plot_sentiment(by_month)"
   ]
  },
  {
   "cell_type": "code",
   "execution_count": 43,
   "metadata": {
    "collapsed": true
   },
   "outputs": [],
   "source": [
    "import random\n",
    "\n",
    "def search_tweets(tweets, text, keyvals, n=100):\n",
    "    # Sample tweets matching search term and keyvals filter.\n",
    "    random.seed(1234567)\n",
    "    matches = [t for t in filter_tweets(tweets) if check_keyvals(t, keyvals) and text in t['text'].lower()]\n",
    "    return random.sample(matches, min(n, len(matches)))\n",
    "\n",
    "def join_terms(terms):\n",
    "    return ', '.join(clean(s) for s in terms)\n",
    "\n",
    "def feat_counts(fi,ci,X,y):\n",
    "    return sum([1 for (xs,yi) in zip(X,y) if yi == ci and xs[fi] > 0])\n",
    "\n",
    "def get_pos_mask(X, y, feats, reg=1):\n",
    "    \"\"\" Get mask for indices that are more associated with class 1 than class 0. \"\"\"\n",
    "    posp = ((1 + X[np.where(y == 1)].sum(axis=0)) / X[np.where(y == 1)].sum()).getA1()\n",
    "    negp = ((1 + X[np.where(y == 0)].sum(axis=0)) / X[np.where(y == 0)].sum()).getA1()\n",
    "    diffs = posp - negp\n",
    "    diffs = np.array([1 if v > 0 else 0 for v in diffs])\n",
    "    return np.array(diffs)\n",
    "    \n",
    "    \n",
    "def top_terms(X_real, target_ind, base_ind, feats, n=20):\n",
    "    base_ind = np.array(list(set(base_ind) - set(target_ind)))\n",
    "    print '%d target and %d base indices' % (len(target_ind), len(base_ind))\n",
    "    X = X_real.sign()\n",
    "    subX = X[np.concatenate((target_ind, base_ind))]\n",
    "    y = np.array([1] * len(target_ind) + [0] * len(base_ind))\n",
    "    probs = get_pos_mask(subX, y, feats)\n",
    "    chi, _ = chi2(subX, y)\n",
    "    chi = np.nan_to_num(chi * probs)\n",
    "    found = 0\n",
    "    result = []\n",
    "    counts = X[target_ind].sum(axis=0).getA1()\n",
    "    for idx in np.argsort(chi)[::-1]:\n",
    "        feat = feats[idx]\n",
    "        if ' ' not in feat and counts[idx] > 1:  # ignore terms that don't appear in at least 2 pos tweets.\n",
    "            result.append(feat)\n",
    "            found += 1\n",
    "        if found == n:\n",
    "            break\n",
    "    return result"
   ]
  },
  {
   "cell_type": "code",
   "execution_count": 44,
   "metadata": {
    "collapsed": false,
    "scrolled": true
   },
   "outputs": [
    {
     "name": "stdout",
     "output_type": "stream",
     "text": [
      "1127 onew tweets in March\n",
      "2 positive onew tweets in March\n",
      "470 negative onew tweets in March\n",
      "Lol is everyone still on about Onew smoking an electronic cigarette and about his Girlfriend? Seriously he's human.\n",
      "Onew caught smoking an electronic cigarette?: Onew, who was recently swept up in a scandal with Jungah, is... http://t.co/wB4COi4xZx #fb\n",
      "The way he smoke it is really cute RT @allkpop: Onew caught smoking an electronic cigarette? http://t.co/2pI7sdCMOd\n",
      "Onew caught smoking an electronic cigarette?: Onew, who was recently swept up in a scandal with Jungah, is cau... http://t.co/EYHvSL36JH\n",
      "Rumour about Onew : Middle finger incident,  Smoking an electronic cigarette, Dating Jungah After School.\n",
      "WTF RT �??@allkpop: Onew caught smoking an electronic cigarette? http://t.co/cNxXnYeFoJ�??\n",
      "@baeknhaneey @8meigeuns ak bru ngeh. Smoking~ onew smoking pke e-cigarette *syok*\n",
      "Cc: @diyahrdewi RT @allkpop: Onew caught smoking an electronic cigarette? http://t.co/U4U8gsytCe\n",
      "so RT @allkpop: Onew caught smoking an electronic cigarette? http://t.co/wvtfA7nCQ0\n",
      "@lelilalilulelo ini eon &gt;&gt; @allkpop: Onew caught smoking an electronic cigarette? http://t.co/m0fNGDVQNM\n",
      "NEWS: Onew caught smoking an electronic cigarette?  Onew, who was recently swept up in a scandal with Jungah, is... http://t.co/Nxj4Ayzu7u\n",
      "kasian kali mereka kalo sampe ngerokok aja gaboleh ya -,- RT @allkpop: Onew caught smoking an electronic cigarette? http://t.co/rVdhdJbLCr\n",
      "@hafyfashal \"@allkpop : Onew caught smoking an electronic cigarette? http://t.co/23489MRWZz �?�\n",
      "Onew, pointing middle finger ,dating rumors with jungah, smoking an electronic cigarette. -_-\n",
      "????!!!! RT @allkpop Onew caught smoking an electronic cigarette? http://t.co/qiwNHw2zLV�?�\n",
      "Speechless, too many dramas about u recently :( RT @allkpop: Onew caught smoking an electronic cigarette? http://t.co/mo9zg6IfUX\n",
      "Onew caught smoking an electronic cigarette?: Onew, who was recently swept up in a scandal with Jungah, is cau... http://t.co/FxYDy94oYZ\n",
      "I think it's no problem. He is adult enough RT @allkpop: Onew caught smoking an electronic cigarette? http://t.co/dYc9Qii8Nc\n",
      "Dibahas malah skrg,,,,,,zzzzzzz,,,,basiiiiRT @allkpop: Onew caught smoking an electronic cigarette? http://t.co/dtcJ3vLOb3\n",
      "Jinki skrng lg eksis bgt yehh?? RT @sendulce: Aa jinja??jinkiyaa waegurae?? \"allkpop: Onew caught smoking an electronic cigarette? http://t.\n",
      "This is so not Onew, if you really believe he smoke or some pathetic electric cigarette, you're NOT worth to be called a shawol. Gtfo!\n",
      "HIH APAAN LAGE NEH! BUSET!! RT @allkpop: Onew caught smoking an electronic cigarette? http://t.co/UZ8SBgYjNJ\n",
      "Smoking NO �??��??@allkpop: Onew caught smoking an electronic cigarette? http://t.co/WmtqDqFfUc�??\n",
      "�??@allkpop: Onew caught smoking an electronic cigarette? http://t.co/7LKmZ428ou�??\n",
      "Onew caught smoking an electronic cigarette. O.o\n",
      "Bkn itu cmn permen aja :). RT @allkpop: Onew caught smoking an electronic cigarette? http://t.co/AC4isqNCx8\n",
      "Why got so many troubles? --aRT @allkpop: Onew caught smoking an electronic cigarette? http://t.co/FZMyX3faS3\n",
      "Onew caught smoking an electronic cigarette?: Onew, who was recently swept up in a scandal with Jungah, is cau... http://t.co/KIQ1J5RlVO\n",
      "fucking seriously guys RT @allkpop: Onew caught smoking an electronic cigarette? http://t.co/FuIeh98rGP\n",
      "One from shinee~ no big.. its their life..RT @allkpop: Onew caught smoking an electronic cigarette? http://t.co/3BSYJZcLZH\n",
      "........RT allkpop: Onew caught smoking an electronic cigarette? http://t.co/eybnTADWBq\n",
      "Sudah lah Onew smoke electric cigarette perlu ka 'get in trouble' tu? He's smoking not KILLING PEOPLE.\n",
      "OHMYGAD WAIT onew is using an electric cigarette?!?!? HAHAHA ok\n",
      "at least onew is smoking e-cigs (at least in public) instead of regular cigs?? they're less harmful\n",
      "It's funny how allkpop is making a big deal about onew smoking... AN ELECTRIC CIGARETTE\n",
      "Why does it bother so much though RT @allkpop: Onew caught smoking an electronic cigarette? http://t.co/F6Mc0xK1aC\n",
      "Onew caught smoking an electronic cigarette?: Onew, who was recently swept up in a scandal with Jungah, is cau... http://t.co/Z8Iyijk8UU\n",
      "Allkpop, please stop. RT @/allkpop: Onew caught smoking an electronic cigarette? http://t.co/WerB89w4zt\n",
      "Isn't bad. And about him smoking an electronic cigarette, he's old enough for that. He's 23 almost 24! Let him smoke if he wants. Poor Onew�??�\n",
      "Onew caught smoking an electronic cigarette? http://t.co/KjjHn3wgJW\n",
      "Onew caught smoking an electronic cigarette? http://t.co/7EjjVhETjE\n",
      "onew caught smoking an electronic cigarettes ? onew, i hate man who smoke. i hate man who doesn't love his own life http://t.co/AU55yDyXbC\n",
      "�??@allkpop: Onew caught smoking an electronic cigarette? http://t.co/xRnDZMxNuy�?? HOLD UP\n",
      "Yaaa allkpop u so funny, lol RT @allkpop: Onew caught smoking an electronic cigarette? http://t.co/apTdpNXjqT\n",
      "Onews sexy RT @allkpop: Onew caught smoking an electronic cigarette? http://t.co/VoINj5i34y\n",
      "Surprised Onew smokes &amp; it's electronic cigarette but who cares. He is also a human. (Y)\n",
      "Dia jg manusia biasa kali -,- RT @allkpop: Onew caught smoking an electronic cigarette? http://t.co/Tu41bYgB4G\n",
      "This is Jungah fault . Onew is turning bad bcause of her RT @allkpop: Onew caught smoking an electronic cigarette? http://t.co/24hn1KDpJb\n",
      "no onew no ... Electronic Cigarettes are more addictive ... i really thought that you are more intelligent\n",
      "Onew caught smoking an electronic cigarette? http://t.co/EhXkGSOnmt lewat @allkpop\n",
      "Onew caught smoking an electronic cigarette? http://t.co/crNVsamYZT\n",
      "\"@/SHlNSEKYUNG: Don't make me laugh early in the morning pls @/allkpop: Onew caught smoking an electronic cigarette? http://t.co/1zI9Bz5e3d\n",
      "Onew was caught smoking an electronic cigarette??\n",
      "What the heck why is he smoking that electric cigarette? This is not onew lol\n",
      "He smokes too WTF ONEW WHYYY! Not a cig but an electronic one at that!\n",
      "Ieu naon deui jun? @PACAR_ONEW RT @allkpop: Onew caught smoking an electronic cigarette? http://t.co/lPhnavFhzB\n",
      "Buka tweet malah bikin nyesek  &gt;&gt;Onew caught smoking an electronic cigarette? &lt;&lt; So what ??? masalah gitu T,T\n",
      "Onew really got our attantion yeh? RT @allkpop: Onew caught smoking an electronic cigarette? http://t.co/U4t5FylAsB\n",
      "Are you retarded ? He's not smoking . -_- @allkpop: Onew caught smoking an electronic cigarette? http://t.co/qSIiiN6dMb\n",
      "Onew smoking an e-cigarette &gt;&lt;\n",
      "NOOOOO!!! RT @allkpop: Onew caught smoking an electronic cigarette? http://t.co/3yfXisNwk2\n",
      "Onew is smoking an electronic cigarette ........ so what?\n",
      "wait so its an electronic cigarette in onews mouth lmao OR ARE NETIZENS STUPID\n",
      "so? RT @allkpop: Onew caught smoking an electronic cigarette? http://t.co/uXSajQxty4\n",
      "BACOT ANJING RT  @allkpop: Onew caught smoking an electronic cigarette? http://t.co/oV57WGgdJ8\n",
      "Onew caught smoking an electronic cigarette?  allkpop http://t.co/gREWfJy9ek\n",
      "I don't care if Onew is dating, but smoking?... even if it's \"just\" a electronic cigarette .. #dislikesit\n",
      "after get caught dating with Jungah, now, smoking an electronic cigarette? like seriously Onew what are you doing\n",
      "Stop it RT allkpop Onew caught smoking an electronic cigarette? http://t.co/WAQaU0reOR\n",
      "fuck off RT @/allkpop: Onew caught smoking an electronic cigarette? http://t.co/YnDbsq6hNg\n",
      "@ginafatriaP TT_TT RT @allkpop Onew caught smoking an electronic cigarette? http://t.co/izlKXLgoNb �?�\n",
      "Ini apalgi --\" �??@allkpop Onew caught smoking an electronic cigarette? http://t.co/XasWAipQ0g�??\n",
      "oh nooooo @renirego ----&gt; RT  @allkpop : Onew caught smoking an electronic cigarette? http://t.co/ri4grukUoy �?�\n",
      "\"Onew caught smoking an electronic cigarette?\" at least it's electric.... ._.\n",
      "onew smoking an ecig lmfao\n",
      "�??@allkpop: Onew caught smoking an electronic cigarette? http://t.co/ItTAcnI7gd�??   �?س�?ت�?�?ت�?ات�?�?�?�?تت�?�?�?�?ت س�?ب�?ا ا�?�?خ�?�?�? �?�? حا�?�?ا �?ا حشرات !!!\n",
      "WaduhHhh~~ RT @allkpop: Onew caught smoking an electronic cigarette? http://t.co/W1vjXEKJf5\n",
      "Are you asking a rhetorical question? RT @allkpop: Onew caught smoking an electronic cigarette?\n",
      "That onew smoking an electronic cigarette is ridiculous, it looks more like a pen please -__-\n",
      "Onew was caught for smoking. An electric cigarette. What's wrong with that??\n",
      "Yauda mau gimana lg uda gede kali si abang, jangan terlalu melebih\"kanlah �??@allkpop: Onew caught smoking an electronic cigarette?\n",
      "Onew was smoking an electric cigarette on a date with a hot noona. Aint nothing wrong with that.\n",
      "Onew caught smoking an electronic cigarette?http://t.co/Ew0GxMa6KR via @allkpop\n",
      "�??@allkpop: Onew caught smoking an electronic cigarette? http://t.co/1LWIsJWggG�??\n",
      "Onew caught smoking an electronic cigarette? http://t.co/E8CX44ii9b\n",
      "Onew caught smoking an electronic cigarette?: Onew, who was recently swept up in a scandal with Jungah, is cau... http://t.co/25pbIshMEa\n",
      "poop RT allkpop: Onew caught smoking an electronic cigarette? http://t.co/JyhgHTaj9E\n",
      "poor jinki... T_T.. RT @allkpop: Onew caught smoking an electronic cigarette? http://t.co/oBjzPxkeEB\n",
      "2013 isn't really onew's year is it? Got caught flipping someone off, smoking an e-cigarette and a scandal with jungah...\n",
      "@AstariFadilah :( RT @.allkpop: Onew caught smoking an electronic cigarette? http://t.co/dyj3fIsBWE\n",
      "You can call this is scandal if he smoke weed but look omg RT @allkpop: Onew caught smoking an electronic cigarette? http://t.co/yDbK1Ew7Lr\n",
      "i dont get why ppl were upset onew was smoking an electric cig? cant they use him as the rolemodel for quitting smoking?\n",
      "@skehehdanfdldi please stop smoking... even it just an electronic cigarette .. where is the flower boy onew ? :'(\n",
      "Netizens are claiming that Onew is smoking an electric cigarette in one of the photos taken with Jungah. AM I BLIND?! Coz I don't see it.\n",
      "what happened with onew? after being spotted showing up his middle finger and now he is caught smoking an electronic cigarette?\n",
      "�??@allkpop: Onew caught smoking an electronic cigarette? http://t.co/DKCxj7dwLt�?? and a grown man cant smoke because......?\n",
      "�??@allkpop: Onew caught smoking an electronic cigarette? http://t.co/MAo8x5nLcP�?? yaelaaaa ya bagus kale\n",
      "Omooo RT @allkpop: Onew caught smoking an electronic cigarette? http://t.co/4VWkvriFFj\n",
      "�??@allkpop: Onew caught smoking an electronic cigarette? http://t.co/YZAndZemZo�?? It is so not SM's year. I feel So bad for him.\n",
      "Apa itu mksdnya, hiks RT @thea_kimL: @hafyfashal \"@allkpop : Onew caught smoking an electronic cigarette? http://t.co/gQ5v51hMdq �?�\n",
      "terms in march\n",
      "41070 target and 951563 base indices\n",
      "onew, green, utah, cigarette, gallagher, noel, muse, pope, drummer, caught, moves, criticises, electronic, electric, \\#gotitfree, risks, smoke, mistic, tax, an\n",
      "positive terms in march\n",
      "5324 target and 987309 base indices\n",
      "my, i, got, ecig, love, need, cig, lost, am, \\#gotitfree, me, i'm, bed, want, e-cig, broke, vaping, so, bought, mom\n",
      "negative terms in march\n",
      "3388 target and 989245 base indices\n",
      "onew, caught, smoking, an, class, drummer, criticises, gallagher, noel, muse, cigarette, electric, kid, in, electronic, you, he, guy, cool, planet\n"
     ]
    }
   ],
   "source": [
    "# Why the drop in March?\n",
    "print '%d onew tweets in March' % len(search_tweets(raw_tweets, 'onew', [['month',  sorted(by_month)[5]]], n=1e10))\n",
    "print '%d positive onew tweets in March' % len(search_tweets(raw_tweets, 'onew', [['sent', 'positive'], ['month',  sorted(by_month)[5]]], n=1e10))\n",
    "print '%d negative onew tweets in March' % len(search_tweets(raw_tweets, 'onew', [['sent', 'negative'], ['month',  sorted(by_month)[5]]], n=1e10))\n",
    "print '\\n'.join(t['text'] for t in search_tweets(raw_tweets, 'onew', [['sent', 'negative'], ['month', sorted(by_month)[5]]]))\n",
    "print 'terms in march'\n",
    "print join_terms(top_terms(X_raw, filter_tweets_ind(raw_tweets, keyvals=[['month', sorted(by_month)[5]]]),\n",
    "                range(X_raw.shape[0]), features))\n",
    "print 'positive terms in march'\n",
    "print join_terms(top_terms(X_raw, filter_tweets_ind(raw_tweets, keyvals=[['sent', 'positive'], ['month', sorted(by_month)[5]]]),\n",
    "                range(X_raw.shape[0]), features))\n",
    "print 'negative terms in march'\n",
    "print join_terms(top_terms(X_raw, filter_tweets_ind(raw_tweets, keyvals=[['sent', 'negative'], ['month', sorted(by_month)[5]]]),\n",
    "                range(X_raw.shape[0]), features))\n"
   ]
  },
  {
   "cell_type": "code",
   "execution_count": 46,
   "metadata": {
    "collapsed": false
   },
   "outputs": [
    {
     "name": "stdout",
     "output_type": "stream",
     "text": [
      "found 73647 male and 53528 female tweets\n"
     ]
    },
    {
     "data": {
      "image/png": "[encoded data removed]",
      "text/plain": [
       "<matplotlib.figure.Figure at 0x152fd2f50>"
      ]
     },
     "metadata": {},
     "output_type": "display_data"
    }
   ],
   "source": [
    "def plot_genders(by_month):\n",
    "    months = [d for d in sorted(by_month)]\n",
    "    plt.figure(figsize=(7,5))\n",
    "    ax = plt.subplot(111)\n",
    "    female_counts = count_tweets(by_month, keyvals=[['gender', 'female']])\n",
    "    male_counts = count_tweets(by_month, keyvals=[['gender', 'male']])\n",
    "    ax.plot(months, male_counts, 'g^--', label='male')\n",
    "    ax.plot(months, female_counts , 'ko-', label='female')\n",
    "    male_fraction = 100. * np.array(male_counts) / (np.array(male_counts) + np.array(female_counts))\n",
    "    print 'found %d male and %d female tweets' % (sum(male_counts), sum(female_counts))\n",
    "    ax.xaxis_date()\n",
    "    plt.xticks(rotation=70) \n",
    "    plt.legend(loc='upper left')\n",
    "    ax.set_ylabel('# tweets', size=16)\n",
    "    \n",
    "    ax2 = ax.twinx()\n",
    "    ax2.plot(months, male_fraction, 'bD:')\n",
    "    ax2.set_ylabel('% male', color='b', size=16)\n",
    "    ax2.set_ylim((30, 70))\n",
    "    for tl in ax2.get_yticklabels():\n",
    "        tl.set_color('b')\n",
    "\n",
    "    ax.set_ylabel('# tweets', size=16)\n",
    "\n",
    "    plt.savefig('gender.pdf', bbox_inches='tight')\n",
    "    plt.show()    \n",
    "    \n",
    "plot_genders(by_month)"
   ]
  },
  {
   "cell_type": "code",
   "execution_count": 47,
   "metadata": {
    "collapsed": false
   },
   "outputs": [
    {
     "data": {
      "image/png": "[encoded data removed]",
      "text/plain": [
       "<matplotlib.figure.Figure at 0x11d8e0150>"
      ]
     },
     "metadata": {},
     "output_type": "display_data"
    }
   ],
   "source": [
    "def plot_gender_sentiment(by_month):\n",
    "    months = [d for d in sorted(by_month)]\n",
    "    plt.figure(figsize=(7,5))\n",
    "    ax = plt.subplot(111)\n",
    "    male_pos = count_tweets(by_month, keyvals=[['gender', 'male'], ['sent', 'positive']])\n",
    "    male_neg = count_tweets(by_month, keyvals=[['gender', 'male'], ['sent', 'negative']])\n",
    "    malev = 100. *  male_pos / (male_pos + male_neg)\n",
    "    \n",
    "    \n",
    "    female_pos = count_tweets(by_month, keyvals=[['gender', 'female'], ['sent', 'positive']])\n",
    "    female_neg = count_tweets(by_month, keyvals=[['gender', 'female'], ['sent', 'negative']])\n",
    "    # femalev = 100. * female_pos / female - 100. * female_neg / female\n",
    "    femalev = 100. * female_pos / (female_pos + female_neg)\n",
    "    \n",
    "    ax.plot(months, malev, 'g^-', label='male positive sentiment')\n",
    "    ax.plot(months, femalev, 'bo--', label='female positive sentiment')\n",
    "    #ax.plot(months, 100. * np.array(female_pos) / (np.array(female)) , 'bo--', label='female positive sentiment')\n",
    "    #ax.plot(months, 100. * np.array(male_pos) / (np.array(male)) , 'g^-', label='male positive sentiment')\n",
    "    ax.xaxis_date()\n",
    "    plt.xticks(rotation=70) \n",
    "    ax.set_ylim((55, 75))\n",
    "    plt.legend(loc='upper left')\n",
    "    ax.set_ylabel('% positive', size=16)\n",
    "    plt.savefig('gender_sentiment.pdf', bbox_inches='tight')\n",
    "    plt.show()    \n",
    "    \n",
    "plot_gender_sentiment(by_month)"
   ]
  },
  {
   "cell_type": "code",
   "execution_count": 48,
   "metadata": {
    "collapsed": false
   },
   "outputs": [
    {
     "data": {
      "image/png": "[encoded data removed]",
      "text/plain": [
       "<matplotlib.figure.Figure at 0x16496a0d0>"
      ]
     },
     "metadata": {},
     "output_type": "display_data"
    }
   ],
   "source": [
    "def count_ages(by_month, ignore_rt=True, uniq_users=True, uniq_tweets=True, keyvals=None):\n",
    "    ages = []\n",
    "    for month in sorted(by_month):\n",
    "        sums = defaultdict(lambda: 0)\n",
    "        matches = 0\n",
    "        for t in filter_tweets(by_month[month], ignore_rt, uniq_users, uniq_tweets, keyvals):\n",
    "            if 'ages' in t and t['ages'] is not None:\n",
    "                add_to_dict(sums, t['ages'])\n",
    "                matches += 1\n",
    "        total = sum(sums.values())\n",
    "        for k in sums:\n",
    "            sums[k] /= total\n",
    "        #for k in sums:\n",
    "        #    sums[k] /= matches\n",
    "        ages.append(sums)\n",
    "    return ages\n",
    "\n",
    "def pct_change(vals):\n",
    "    return [100. * (v2-v1) / v1 for v1, v2 in zip(vals, vals[1:])]\n",
    "\n",
    "def clean_age(a):\n",
    "    if '45' in a:\n",
    "        return '$\\geq$ 45'\n",
    "    else:\n",
    "        return a\n",
    "\n",
    "def plot_ages(by_month):\n",
    "    lines = get_lines()\n",
    "    months = [d for d in sorted(by_month)]\n",
    "    plt.figure(figsize=(7,5))\n",
    "    ax = plt.subplot(111)\n",
    "    ages = count_ages(by_month)\n",
    "    for a in ['<18', '18-24', '25-34', '35-44', '>=45']: # sorted(ages[0].keys()):\n",
    "        #ax.plot(months, [x[a] for x in ages], next(lines), label=a)\n",
    "        ax.plot(months[1:], pct_change([x[a] for x in ages]), next(lines), label=clean_age(a))\n",
    "        #ax.plot(months[1:], count_ages([x[a] for x in ages]), next(lines), label=clean_age(a))\n",
    "    ax.xaxis_date()\n",
    "    plt.axhline(color='gray')\n",
    "    plt.xticks(rotation=70) \n",
    "    plt.legend(loc='upper left')\n",
    "    ax.set_ylabel('% change', size=16)\n",
    "    \n",
    "    plt.savefig('ages.pdf', bbox_inches='tight')\n",
    "    plt.show()    \n",
    "    \n",
    "plot_ages(by_month)"
   ]
  },
  {
   "cell_type": "code",
   "execution_count": 49,
   "metadata": {
    "collapsed": false
   },
   "outputs": [
    {
     "name": "stdout",
     "output_type": "stream",
     "text": [
      "defaultdict(<function <lambda> at 0x124c4d320>, {'35-44': 0.13449193023053799, '>=45': 0.24842755529236391, '18-24': 0.12975683165881882, '25-34': 0.16279551354485308, '<18': 0.3245281692734262})\n"
     ]
    }
   ],
   "source": [
    "all_ages = count_ages(by_month)\n",
    "sums = defaultdict(lambda: 0)\n",
    "for a in all_ages:\n",
    "    add_to_dict(sums, a)\n",
    "total = sum(sums.values())\n",
    "for k in sums:\n",
    "    sums[k] /= total\n",
    "print sums\n"
   ]
  },
  {
   "cell_type": "code",
   "execution_count": 50,
   "metadata": {
    "collapsed": false
   },
   "outputs": [
    {
     "data": {
      "image/png": "[encoded data removed]",
      "text/plain": [
       "<matplotlib.figure.Figure at 0x148af5910>"
      ]
     },
     "metadata": {},
     "output_type": "display_data"
    }
   ],
   "source": [
    "def count_age_sentiment(by_month, ignore_rt=True, uniq_users=True, uniq_tweets=True, keyvals=None):\n",
    "    ages = []\n",
    "    for month in sorted(by_month):\n",
    "        sums_pos = defaultdict(lambda: 0)\n",
    "        sums_neg = defaultdict(lambda: 0)\n",
    "        for t in filter_tweets(by_month[month], ignore_rt, uniq_users, uniq_tweets, keyvals):\n",
    "            if 'ages' in t and t['ages'] is not None:\n",
    "                if t['sent'] == 'positive':\n",
    "                    add_to_dict(sums_pos, t['ages'])\n",
    "                elif t['sent'] == 'negative':\n",
    "                    add_to_dict(sums_neg, t['ages'])\n",
    "                \n",
    "        pct_pos = dict()\n",
    "        for k in sums_pos:\n",
    "            pct_pos[k] = 100. * sums_pos[k] / (sums_neg[k] + sums_pos[k])\n",
    "        ages.append(pct_pos)\n",
    "    return ages\n",
    "\n",
    "def plot_age_sentiment(by_month):\n",
    "    lines = get_lines()\n",
    "    months = [d for d in sorted(by_month)]\n",
    "    plt.figure(figsize=(7,5))\n",
    "    ax = plt.subplot(111)\n",
    "    ages = count_age_sentiment(by_month)    \n",
    "    for a in ['<18', '18-24', '25-34', '35-44', '>=45']: # sorted(ages[0].keys()):\n",
    "        ax.plot(months, [x[a] for x in ages], next(lines), label=clean_age(a))\n",
    "        #ax.plot(months[1:], pct_change([x[a] for x in ages]), next(lines), label=a)\n",
    "    ax.xaxis_date()\n",
    "    plt.xticks(rotation=70) \n",
    "    plt.legend(loc='center left', bbox_to_anchor=(1, 0.5))\n",
    "    ax.set_ylabel('% positive', size=16)\n",
    "    # ax.set_ylim((52, 75))\n",
    "    \n",
    "    plt.savefig('age_sentiment.pdf', bbox_inches='tight')\n",
    "    plt.show()    \n",
    "    \n",
    "plot_age_sentiment(by_month)"
   ]
  },
  {
   "cell_type": "markdown",
   "metadata": {},
   "source": [
    "### Print top coefficients for each demographic/sentiment"
   ]
  },
  {
   "cell_type": "code",
   "execution_count": 52,
   "metadata": {
    "collapsed": false
   },
   "outputs": [
    {
     "name": "stdout",
     "output_type": "stream",
     "text": [
      "53920 target and 938713 base indices\n",
      "29387 target and 963246 base indices\n",
      "46852 target and 62397 base indices\n",
      "62397 target and 46852 base indices\n",
      "99186 target and 437128 base indices\n",
      "6114 target and 530200 base indices\n",
      "28351 target and 507963 base indices\n",
      "18525 target and 517789 base indices\n",
      "77692 target and 458622 base indices\n",
      "16172 target and 976461 base indices\n",
      "18421 target and 974212 base indices\n",
      "20960 target and 971673 base indices\n",
      "31159 target and 961474 base indices\n",
      "31685 target and 960948 base indices\n",
      "41070 target and 951563 base indices\n",
      "37283 target and 955350 base indices\n",
      "39293 target and 953340 base indices\n",
      "47524 target and 945109 base indices\n",
      "45658 target and 946975 base indices\n",
      "55373 target and 937260 base indices\n",
      "71050 target and 921583 base indices\n"
     ]
    }
   ],
   "source": [
    "def print_term_table(X_raw, raw_tweets, by_month, outf):        \n",
    "    out = open(outf, 'wt')\n",
    "    out.write('{\\\\bf Positive sentiment} & %s\\\\\\\\\\n' % \n",
    "                join_terms(top_terms(X_raw, filter_tweets_ind(raw_tweets, keyvals=[['sent', 'positive']]),\n",
    "                range(len(raw_tweets)), features)))\n",
    "                # filter_tweets_ind(raw_tweets, keyvals=[['sent', 'negative']]), features)))\n",
    "    out.write('{\\\\bf Negative sentiment} & %s\\\\\\\\\\n' %\n",
    "                join_terms(top_terms(X_raw, filter_tweets_ind(raw_tweets, keyvals=[['sent', 'negative']]),\n",
    "                range(len(raw_tweets)), features)))\n",
    "                # filter_tweets_ind(raw_tweets, keyvals=[['sent', 'positive']]), features)))\n",
    "    out.write('\\\\hline\\n')\n",
    "    out.write('{\\\\bf Female} & %s\\\\\\\\\\n' % \n",
    "                join_terms(top_terms(X_raw, filter_tweets_ind(raw_tweets, keyvals=[['gender', 'female']]),\n",
    "                filter_tweets_ind(raw_tweets, keyvals=[['gender', 'male']]), features)))\n",
    "    out.write('{\\\\bf Male} & %s\\\\\\\\\\n' % \n",
    "                join_terms(top_terms(X_raw, filter_tweets_ind(raw_tweets, keyvals=[['gender', 'male']]),\n",
    "                filter_tweets_ind(raw_tweets, keyvals=[['gender', 'female']]), features)))\n",
    "    out.write('\\\\hline\\n')\n",
    "    for age in ['<18', '18-24', '25-34', '35-44', '>=45']:\n",
    "        out.write('{\\\\bf %s} & %s\\\\\\\\\\n' % (clean_age(age),\n",
    "                join_terms(top_terms(X_raw, filter_tweets_ind(raw_tweets, keyvals=[['pred_age', age]]),\n",
    "                                            [i for i, t in enumerate(raw_tweets) if 'pred_age' in t], features))))\n",
    "    out.write('\\\\hline\\n')\n",
    "    for month in sorted(by_month):\n",
    "        out.write('{\\\\bf %s} & %s\\\\\\\\\\n' % (str(month)[:7],\n",
    "                join_terms(top_terms(X_raw, filter_tweets_ind(raw_tweets, keyvals=[['month', month]]),\n",
    "                                            range(len(raw_tweets)), features))))        \n",
    "    out.close()\n",
    "    \n",
    "print_term_table(X_raw, raw_tweets, by_month, 'coef_demo.tex')\n"
   ]
  },
  {
   "cell_type": "markdown",
   "metadata": {},
   "source": [
    "** Examine trends in term usage. **"
   ]
  },
  {
   "cell_type": "code",
   "execution_count": 53,
   "metadata": {
    "collapsed": false,
    "scrolled": true
   },
   "outputs": [
    {
     "name": "stdout",
     "output_type": "stream",
     "text": [
      "360 target and 6940 base indices\n",
      "christmas, gift, parents, present, electric, @youtube, cigarette, sis, @v9cigs, r, win, future, game, e-juice, gay, store, ass, never, early, agree\n",
      "Christmas is just around the corner, enter to win a SMOKO ecig Premium Starter Packs worth �45 http://t.co/nV2JBr53 http://t.co/JqZ3D1Rb\n",
      "Buy me an e cig for christmas and I'll love you forever.\n",
      "Babes quit smoking na. Haha!! RT �@RaINyourFACE: Alright, for my christmas wishlist, E-cig and Earphones�\n",
      "my mom bought my dad an electronic cigarette for christmas �???\n",
      "Got an electronic cigarette for Christmas, hopefully It'll help me quit!\n",
      "My mom's charging electronic cigarettes go with the Christmas decorations. http://t.co/NlkrMJTH\n",
      "I bought a VIP E-Cig last night. I don't need it, but it's just in case I do drink over Christmas and get tempted to smoke.\n",
      "im gettin me a tredmill and an ecig tomorrow. my little christmas gift to myself ;)\n",
      "#AllIWantForChristmasIs ELECTRONIC CIGARETTE :) LOL.\n",
      "@kjmeow Hah! I'm giving people e-cig starter kits for Christmas  while asking if I can buy a couple REAL ones off them! #Holiday stress\n",
      "#Ecigs #ecig #vapers On The 11th Day of Christmas my forum gave to me (DAY 11) http://t.co/LS8gwTGd\n",
      "Ima buy my dad an electronic cigarette for Christmas, no more tobacco pal\n",
      "The fact that my mom got her &amp; my dad electronic cigarettes for Christmas &gt;&gt;&gt;&gt;&gt; #priceless\n",
      "if my uncle quit smoking like 15 years ago... why are you smoking an ecigarette. #gtfo #christmasisover\n",
      "eCig N Fucking iPhone 4 here I come! #christmasmoney #tips #dancingfodollahs http://t.co/zFEwLEHl\n",
      "Officially getting the e-cig with my next check as my Christmas present to myself.\n",
      "@MS70Life @sissyhb @jamescistheman @value4valueink  good for you maybe you should send obama an e cig as a christmas present\n",
      "Don't forget!  A new E-Cig for the smokers in your life for Christmas!  Check out all of our new vapor flavors!\n",
      "@yacobo_lobo, I won't be as ungrateful as @GabrielleBeam when I get my Christmas present. #ECigarettes\n",
      "An ECig, a bottle of Crown Black and Fifty Shades Freed. Booze, cigarettes and porn.... It's a Christmas trifecta. Thanks babe ??\n",
      "I dunno which was more classy... allie and mom opening guns for christmas or the e-cig they got allie....\n",
      "bought my brother electric cigarettes for christmas hahaha\n",
      "Coppin mama a swaggy e cig for Christmas\n",
      "Electric cig that tastes like java, merry christmas to me �???�???�???�???�??? http://t.co/wrtRucbb\n",
      "Sitting on the deck with a cold beer, a cigarette, and a plate of haloumi cheese. Best Christmas eve set up.\n",
      "Just got myself my Christmas present. Deciding to cut down on smoking and trying an electronic cigarette.\n",
      "Going to get electronic cigarette for my dad as a christmas present. Hope he won't smoke so much d\n",
      "Fuck Yeahh Getting A E-Cigarette For Christmas &lt;3 ^.^\n",
      "About to make my dad's day with an early Christmas present. I got him an E-Cig so he'll quit smoking.\n",
      "My mom got an E-smoke for christmas. Anything to get her to quit.\n",
      "The perfect email deal just in time for Christmas! @taytayheyy @caseyehobbs #ecig http://t.co/4KK20OAx\n",
      "If I get an electric cigarette for Christmas I will go on a killing rampage. You have been warned.\n",
      "Smokeless Cigarettes For Christmas : http://t.co/Et8TdFSd\n",
      "@david6fifty Haha I know and was kidding... I was going to get you an electric cig as a Christmas gift but Nevermind&gt;_&gt;\n",
      "�??@carolbove_: Buy me an e cig for christmas and I'll love you forever.�?? @RKazzy they wanna vape\n",
      "@bktownsend I just want an electric cigarette this christmas, pretty please? http://t.co/Lz9D8Vd2\n",
      "I got an e cig for Christmas and I feel like I'm smoking a real cigarette in my bed it's fuckin cool i don't have to go out in the cold\n",
      "Also Katie is grudging against me because James didn't want her to smoke her e-cigarette in the car #Christmas\n",
      "Electronic cigs for Christmas ahhahahaha http://t.co/9OBBoF7H\n",
      "I wonder of it's a bad idea to ask for an e cig for Christmas from my parents.. #Hmmm #IReallyWantOne #Lol\n",
      "Electronic cigarette!!! #ChristmasWish\n",
      "#FavoriteChristmasPresent has to be my electronic cigarette and my mini meditation fountain �???�??�??�\n",
      "So mother drunkenly smoked my cigarettes last night. Despite having a pack in her handbag &amp; no shop open. Cheers Ma! #smokefree #christmas\n",
      "Merry Christmas!  RT @teccompany Wishing all you vapers a very \"MERRY CHRISTMAS\" from all of us here at TECC\n",
      "My aunt got me an electric cigarette for Christmas. Best gift\n",
      "My brother got me an e cig for Christmas hahahaha\n",
      "I want an ecigarette for Christmas...i think i'm at the age where I wanna smoke fake cigs...noncancer but anti hate everyone cigs\n",
      "My dad insists I sit here and watch White Christmas w him, as he cries, sings along w Bing Crosby, and puffs his Electronic cigarette #dad\n",
      "So I was sneeking around looking at my Christmas presents and my mom got me a fucking electric cigarette #hellfuckinyeah #thanksmommyzeko �?�\n",
      "i'm definitely investing in an e-cig after christmas. dirty, disgusting habit is smoking...\n",
      "Buy me an e-cig for christmas and I'll love you forever.\n",
      "Christmas is just around the corner, enter to win a SMOKO ecig Premium Starter Packs worth �45 http://t.co/gh6fTTyu http://t.co/xbF9pKv5\n",
      "I wish I got an e cig for Christmas...\n",
      "I want an electric cigarette for Christmas\n",
      "elctronic christmas music and electronic cigarette!\n",
      "There was a Groupon today for an E-cigarette starter set. Bought it for James, merry Christmas to me!\n",
      "Christmas is just around the corner, enter to win a SMOKO ecig Premium Starter Packs worth �45 http://t.co/vAM0NxFW http://t.co/hHiXO2MO\n",
      "Sitting around smoking electronic cigarettes. #merrychristmas\n",
      "Christmas is just around the corner, enter to win a SMOKO ecig Premium Starter Packs worth �45 http://t.co/IE8YSpcD http://t.co/DzyeICIe\n",
      "@TheDoctors I bought my brother-- a electronic blucig cigarette for Christmas. Do you think it's safer than regular cigarettes?\n",
      "if you love me get me a menthol e-cig for christmas i'll be at eric &amp; sarah's tomorrow you can surprise me thanks guys!!!\n",
      "Christmas is just around the corner, enter to win a SMOKO ecig Premium Starter Packs worth �45 http://t.co/AJmX4LCU http://t.co/mLuoDl4r\n",
      "Christmas and electronic cigarettes, what could be better? #kerryclass http://t.co/GbCO9DFi\n",
      "�???Preparing to make Christmas gifts �???  Crank up the tunes �?? Electronic cig ready &amp; charged up �?? Inspiration session �??��??��??� �?? LET'S DO THIS!\n",
      "Merry Christmas to me. Just purchased this beautiful smokeless cigarette from my friend, Taki, at Vaporland http://t.co/G4OISEK8\n",
      "Kind of obsessed with e-cigarettes right now? Maybe I order it so it's at my Mom's on Christmas? http://t.co/X8eqgdjx\n",
      "#ReTweet Twitter #In2013YouBetterNot Smoke Real Cigs When BLU Cigs taste better &amp; Save you lots of $$ Christmas Time! http://t.co/aqKYBetn\n",
      "Christmas is just around the corner, enter to win a SMOKO ecig Premium Starter Packs worth �45 http://t.co/Vx1rrALG http://t.co/GhMKiZPt\n",
      "my ma got me an electronic cigarette for christmas how do i feel about this i just dont know\n",
      "Ben bought me an electronic cigarette for Christmas, romance.\n",
      "Just ordered 4 ecigarettes as family Christmas gifts. #newyearsresolution #quittingsmoking\n"
     ]
    }
   ],
   "source": [
    "# Why are females positive in December?\n",
    "print join_terms(top_terms(X_raw, filter_tweets_ind(raw_tweets, keyvals=[['sent', 'positive'], ['gender', 'female'], ['month', sorted(by_month)[2]]]),\n",
    "                filter_tweets_ind(raw_tweets, keyvals=[['sent', 'positive'], ['gender', 'female']]), features))\n",
    " \n",
    "\n",
    "#print '\\n'.join(t['text'] for t in search_tweets(raw_tweets, '', [['sent', 'positive'], ['gender', 'female'], ['month', sorted(by_month)[2]]]))\n",
    "print '\\n'.join(t['text'] for t in search_tweets(raw_tweets, 'christmas', [['gender', 'female'], ['month', sorted(by_month)[2]]]))"
   ]
  },
  {
   "cell_type": "code",
   "execution_count": 54,
   "metadata": {
    "collapsed": false,
    "scrolled": true
   },
   "outputs": [
    {
     "name": "stdout",
     "output_type": "stream",
     "text": [
      "My dad and my 17 year old brother are vaping together in my car lol. This is weird.\n",
      "My dad, who has been smoking since he was 16, got an e-cigarette and hasn't had a cigarette in a week!\n",
      "My dad is hitting an electric cigarette in the kitchen at 9 o'clock lmfaoooooooo\n",
      "@ohmyJASMINE your daddy asking where his ecig. He smoking too much cigarettes. Lol!\n",
      "lmao my dad calls me to bring him his electronic cigarette he left in my car, haha he's feeling\n",
      "Any other child will get their Dads clothes/DVD/CDs etc for Father's Day, and my Dad decides he really wants a high-tech E-cig #mental\n",
      "Finally! Dad got me a Electric cig :) with a diamond. :))\n",
      "*reading sign* We sell cigarettes. \"And cigarettes kill you. So we try to kill you!\" -Dad #quotesofdad #greatlogic #okay\n",
      "Y dan cancer, no personalidad RT @VibeElectric: #RT if you think cigarettes are disgusting!\n",
      "My dads on that electric cigarette flow now\n",
      "My dad thinks he's hip because he has started smoking electric cigarettes.\n",
      "My dad smokes electric cigarettes and cigarettes and is on the nicotine path Lmfao dumbass that's not gonna help you ew\n",
      "My dad just bought an e cig so he thinks he's hot shit\n",
      "So my dad let me smoke his Blu cigarettes &amp; it just taste like burnt toast .\n",
      "My dads e-cig has brought him out in loads of spots, not good\n",
      "Aww i just bought my dad an electric cigarette:')\n",
      "Mum and dad pressuring me to take a drag of one of those electronic cigarettes\n",
      "My dad got an electric cig �???\n",
      "dad looks hilarious with his electric cigarette\n",
      "Dad is enjoying his electronic cig and some whiskey on the porch listening to some blues.. What a cool dude\n",
      "My brother and I bought my dad a vape pen, lololol. He looks like such a teenager �??? Hopefully he starts cutting down on cigarettes.\n",
      "My dad's just chillin chiefin his ecig what a fuckin cool dude\n",
      "I come in the car and my dad has loud classical music and smoking a vapour cigarette :) ? Lool st'3furallah\n",
      "My dad took my ecig &amp; is smoking it now..... #uh\n",
      "Baha cari has my dads lunch all made out for him. Theres a sandwich, a banana, a juice and a pack of cigarettes. That's healthy.\n",
      "Smoking an e-cig with my dad #uh\n",
      "@AshleighFVK nothing really. End of the week, dad'll be used to his diet, he'll also have had his e-cigarette for a while...\n",
      "I walk downstairs to leave for work and my dad is standing in my kitchen smoking an e-cig ??????\n",
      "So proud of my dad for trying to stop smoking and using the electric cigarette\n",
      "do you need i.d to get them electric cigarette things in town?? for my dad btw not me ahaha\n",
      "@MikeyDaDL the electronic cigarettes that give off vapour\n",
      "My dad has an electric cigarette what the hell. How.\n",
      "Should I buy my daddy electronic cigarettes for Christmas to help him quit?\n",
      "Omg I finally figured out what this box is....its an electronic cigarette for my dad.... tempted....jk.....lol\n",
      "My dads electric cigarette is so cool! Omg.. haha\n",
      "@AceMcWicked @lmfbs E.g. my dad gave up cigarettes cold turkey no worries, my nana (his MIL) gave up every year on World Smokefree Day.\n",
      "Gonna look for that electric cigarette my dad got a few years back. This shit sucks\n",
      "I swear the only reason my dad is using the \"e cigarette\" his friend gave him is so he can smoke on the couch again.\n",
      "My dad ordered that Blu electronic cigarette right before he died so I get it now instead.  It's pretty cool.  I want Pina Colada.\n",
      "Calling me a stoner? Really? The last time I smoked was 3 months ago. An electronic cigarette?  bitch i wouldnt be doing itif my dad said no\n",
      "My dads gunna punch me in the face when I hand him the fake vapor cigarette instead of the real ones he asked for �???\n",
      "Ps: it's my dad's electronic cigarette, I don't smoke :P\n",
      "Brought my Dad one of those electronic cigarettes. Positive response at the moment.\n",
      "True life my dad wears a du rag and smokes an ecig http://t.co/RGVslEdRG6\n",
      "I thought my dad had a pinch hitter but it was just an electronic cigarette. Lol. �???\n",
      "my dad got an e cig :o\n",
      "My dad and step dad are both getting slightly crude gifts this year. Like gun targets and a hemp electronic cigarette thing.\n",
      "My dad thinks we should get an e cig for the family.\n",
      "@martiferg @MissMimiwallace budding in here. Have u tried the ecigarettes? My dad quit as soon as he found out I was preggers w/ 1.\n",
      "s/o to my dad for getting an e cig! #proud\n",
      "Over dinner, my friend: \"My brother charges his e-cig as he writes his college apps. My dad thinks he's backing them up on a USB.\"\n",
      "My dad bought an ecig http://t.co/eFxI3EZ5U4\n",
      "@dobdnc ah ok. May call over then. Dyding to see how grandad is coping with the e-cig! X\n",
      "I had a dream Juliet's dad bought me a shit load if e-cigs for my birthday and I was pumped\n",
      "My dad bought those electric cigarettes. Here we go..\n",
      "@CarlyRaeOnAir : One time my dad caught me smoking an e-cig so he took me out to the shed and made me smoke an entire VCR.\n",
      "@munhos_pamela q isso pamela? vuse num teim idadi p bebe minina\n",
      "I smoked my dads \"e-cigarette\" and blew the vapors in my moms face. It was pretty funny to me idk.\n",
      "The fact that my mom got her &amp; my dad electronic cigarettes for Christmas &gt;&gt;&gt;&gt;&gt; #priceless\n",
      "My dad just got my a electronic cigarette... I think his hinting that I should give up #NoBrainer\n",
      "@welshbrian rang school pretending to be my dad asking for his e-cig back\n",
      "@bnhorn_ yaaaaay!! when was ur last cig? are u using the ecigs? were gonna get that for jacks dad\n",
      "My dad and his electronic cigarette are cracking me up �???\n",
      "My dad is cracking me up smoking an electronic cigarette around the house and he thinks its the coolest thing ever hahaha\n",
      "my dad smokes out of a vaporshark but still uses cigs idgi\n",
      "my dumb ass dad bought me an electric cigarette and told me it was a hookah pen and almost killed me�???�??�\n",
      "My dad bought his first e-cigarette today and I couldn't be more proud of him. He's really making an effort to change.\n",
      "Laughing at my dad bc he has an e-cig. (Electronic cigarette).\n",
      "My dad has finally moved to electronic cigarettes and I couldn't be more proud of him for finally not being stubborn.\n",
      "On the way to the gym with my dad who's 'vaping' on his new electronic cigarette\n",
      "Uhhh @ProSmoke just followed me... I think they want me to buy an electric cigarette for my daddy.\n",
      "Vaping in front of my sleeping Dad. Wahahahaha\n",
      "my dad lets me smoke his electronic cigarette but not a real one\n",
      "I want the Blu E-Cig. Told my Mum and she said maybe. Hollerrr! I don't think my Dad will like that much. Hell, I'm almost 18!\n",
      "My stepdad has bought an electronic cigarette to help him give up smoking. It has promptly blown up before his first use. Haha. #stoptober\n",
      "So decided to quit smoking. Bought a vapor cig and got my dad one too. Time to get healthy again.\n",
      "Dads on one because he's lost his electric cig lol\n",
      "My dad has one of those fake water vapor cigarettes. Its so queer.\n",
      "Have to let my dad use my electronic cig so we don't have to keep stopping lol.\n",
      "Lol we're buying my dad an e-cigarette today omg he's gunna love it haha\n",
      "oh my god did my dad reallly just smoke his e cig in applebees ahahahhahaha\n",
      "life update: my dad has started smoking ecigs he's getting so hip\n",
      "Stealing my dads e cig till he gets me chipotle\n",
      "my dad's got his new toy now he can smoke 24/7 with his electronic cigarette :((\n",
      "My dad just bought my mum one of those electronic cigarettes and if that isn't love then I don't know what is...\n",
      "LOL MY MOMS FACE WHEN MY DAD SMOKED HIS E CIG I CANT\n",
      "\"@T_Scherbs: I think I just made my dad switch to electronic cigarettes #score\" helped my mom quit!!\n",
      "Please dad, tell me more about you electronic cigarette\n",
      "Dad got himself an electronic cigarette! this household is over the moon right now! no more stingy eyes or old smoke smell! :D\n",
      "@only4mber @alexalltimelow my dad just did a french inhale with his vapor cigarette thing does that count\n",
      "Need to get myself an electric cig. All the rage these days. Even my dads got one.\n",
      "My dad brought me and my boyfriend an electric cigarette (:\n",
      "O5 Facts About My Dad: 1. He's bald. 2. Works at AK Steel. 3. He's 6 foot, I think. 4. He is a September baby. 5. Smokes electronic cigs.\n",
      "@nickiejohnson_  so my ecig is totally MIA I'm pretty sure I left it at daddy's #ughh\n",
      "It's so awesome seeing my dad get excited about his new ecig I got him! He's happy to be able to breathe again!\n",
      "My dad bought me a electric cigarette lol I need to quit smoking fros. http://t.co/Q1nYDzDQ77\n",
      "Children playing hide&amp;seek, dads vaping, moms taking shots... Turnup in my house right now &amp; I roll up looking a hotness #cool\n",
      "My dad hits me up and say he wants to start vaping.\n",
      "My dad just explained what the difference between vaping and smoking is #thanks\n",
      "My dad has an electric cigarette &amp; I told him I want a hookah pen.\n"
     ]
    }
   ],
   "source": [
    "print '\\n'.join(t['text'] for t in search_tweets(raw_tweets, 'dad', [['gender', 'female']]))"
   ]
  },
  {
   "cell_type": "code",
   "execution_count": 56,
   "metadata": {
    "collapsed": false
   },
   "outputs": [
    {
     "data": {
      "image/png": "[encoded data removed]",
      "text/plain": [
       "<matplotlib.figure.Figure at 0x167d2f350>"
      ]
     },
     "metadata": {},
     "output_type": "display_data"
    }
   ],
   "source": [
    "def get_terms_by_month(raw_tweets, term):\n",
    "    matched_tweets = [t for t in search_tweets(raw_tweets, term, [], 1e10)]\n",
    "    return group_by_month(matched_tweets)\n",
    "    \n",
    "def plot_terms_by_month(by_month, raw_tweets):\n",
    "    linecycler = get_lines()\n",
    "    months = [d for d in sorted(by_month)]\n",
    "    plt.figure(figsize=(7,5))\n",
    "    ax = plt.subplot(111)\n",
    "    totals = count_tweets(by_month, keyvals=[['sent', 'positive']]) + count_tweets(by_month, keyvals=[['sent', 'negative']]) \n",
    "    for term in ['class ', 'need', 'quit', 'bought', 'stupid']:\n",
    "        vals = count_tweets(get_terms_by_month(raw_tweets, term), keyvals=[['sent', 'positive']]) + count_tweets(get_terms_by_month(raw_tweets, term), keyvals=[['sent', 'negative']])\n",
    "        ax.plot(months, 100. * vals / totals, next(linecycler), label=term)\n",
    "    ax.xaxis_date()\n",
    "    plt.xticks(rotation=70) \n",
    "    # plt.ylim((0, 200000))\n",
    "    plt.legend(loc='center left', bbox_to_anchor=(1, 0.5))\n",
    "    plt.ylabel('% non-neutral tweets mentioning term', size=15)\n",
    "    plt.savefig('term_trends.pdf', bbox_inches='tight')\n",
    "    plt.show()\n",
    "    \n",
    "plot_terms_by_month(by_month, raw_tweets)"
   ]
  },
  {
   "cell_type": "code",
   "execution_count": 59,
   "metadata": {
    "collapsed": false
   },
   "outputs": [
    {
     "name": "stdout",
     "output_type": "stream",
     "text": [
      "@saramcmillen Personal anecdote: I've 2 friends who used #ecigarette to quit real cigs. Still addicted to nicotine, but no harsh chemicals.\n",
      "Stephen Dorff makes those electronic cigarettes look so cool, I'm gonna start smoking real cigarettes just so I can use them to help me quit\n",
      "Just got an E-Cigarette bout to quit with my dad :)\n",
      "@JordanETID some dogs just aren't ready to quit. I can't get my dog to put the electric cigarette down http://t.co/2GksPoc0\n",
      "Im thinkin of favoriting this for when u slip up RT @BroadwayBrooks Im thinking of buying an electronic cigarette to help me quit officially\n",
      "Abusing this electric cigarette, so hard to quit smoking\n",
      "Just got an ecig to help me quit smoking ?? http://t.co/FsUdB2ui\n",
      "First step to quitting #ecig #doneforgood #resolution #whoscomingwithmeman #jan http://t.co/3kJrNLI1\n",
      "Freaking the fuck out where is my Ecig?! Day 1 of quitting smoking #coldturkey #godhelpme\n",
      "Yes, I know I use e-cigs instead and its kinda cheating but my lungs still feel a hell of a lot better for it so I'm happy. #quitsmoking\n",
      "step dad is trying to quit smokin so he can use the money 4 #skag so he got a e-cigarette.he made me test it and I got a 500w electric shock\n",
      "After this pack imma get electronic cigarette and might quit tobacco�???�???\n",
      "#ecig #vapers #quit #smoking #malaysia http://t.co/nwAQ4g5k\n",
      "@joe_shieldsuk Quitting smoking makes you put on so much weight. Get an electric cigarette.\n",
      "Tahniah! RT @boljack: my eRoll has arrived! it's time to quit smoking and start vaping!\n",
      "This eCig isn't helping me quit... It's making me beg for a real one.\n",
      "Terasa disini RT\"@ayshardzn: People smoke e-cigarette to quit smoking? All in the mind.\"\n",
      "Got my electric cigs and the quitting begins #quittingis4quiters\n",
      "\"Im trying to quit smoking so I bought a Ecigarette\" on YouTube - http://t.co/Msslm3vf\n",
      "@shootlebreeze thanks diggy simmons I just bought an e cig to quit smoking too! on a fuckin roll I tell ya!\n",
      "i need to get some money for an e-cig finally decided to stop spebding my money on cigerettes its a waste of my damn money #quitingsmoking:)\n",
      "this weekend i saw a 15 y.o. smoking one of those electronic cigarettes, are they not for the purpose for those that want to quit? #NNSW\n",
      "@northerntiger88 you tried them E-cigs all my mates have managed to quit using em.\n",
      "The e-cig chap on the Today programme seems extremely pessimistic about people's chance of quitting. #fancythat\n",
      "Love that my dad has bought me an electronic cigarette thing so I can quit!\n",
      "Want to Quit Smoking? Big Tobacco Is Ready: Electronic cigarettes hit over $400 million in sales in 2012 and wil... http://t.co/bYh62z1A\n",
      "Attempting to quit smoking actual cigarettes by smoking this e cig thing\n",
      "this is what smoking does to you. #nhs #quitsmoking #Ecig http://t.co/6ffvlsLz\n",
      "ONLY ON 3: Quitting habit, saving money may be fueling e-cigarette boom http://t.co/I91UslDr #ilm #ecigarettes #smoking #wway #brunsco\n",
      "Can e-Cigarettes Really Help You Quit Smoking? http://t.co/9uJuXi26\n",
      "Bought an e-cigarette today as a hopeful alternative to smoking. So far I quite like it, one step closer to being as cool as @katebornstein!\n",
      "Ok when you see me with an ecig, don't try to tell me I said I would quit smoking. I said I gave up tobacco.\n",
      "My Uncle crack me up..He's trying to quit smoking..i almost fell on the floor when he decided to light a smokeless cigarette!!  Wow..\n",
      "Haven't smoked in 13 days thanks to this #quittingisgood #smokefree #e-cig http://t.co/YqEdMcYH\n",
      "Want to Quit Smoking? Big Tobacco Is Ready: Electronic cigarettes hit over $400 million in sales in 2012 and wil... http://t.co/5opo5F4V\n",
      "Hopefully my new e-cig will help me quit smoking.. #needsomewillpower\n",
      "bought an eCigarette , not because I want to quit,  but it's too fucking cold to smoke outside.\n",
      "Turns out I can't quit smoking. This e-cigarette sucks.\n",
      "@DIac1127 my mom quit cigs this past month from using the flavored vapor E-cigs. It's like hookah and a years worth of smoking it = 1 pack\n",
      "just tried to smoke mums electronic cigarette what helps her quit smoking, don't think I've ever choked as much as I just did #vile\n",
      "Really proud of my cousin. He is trying to quit smoking so he bought an electric cigarette thing &amp; has already cut back a lot.\n",
      "Ordered the ecig. #attemptingtoquit\n",
      "#upgraded#thankslove#yay#yeeboy#whatchuknowaboutdat#ecig#electric#cigarette#operation#quitsmoking#vaper#yum# http://t.co/VvchyGtw\n",
      "1 week gone without a cigarette. No quit-kits, no help and no electric cigs #PureWillPower #NeverLookingBack #HealthyBoy\n",
      "My friend is buying ECigs. Time to quit!\n",
      "Road to quitting smoking begins.. electric cigarette! http://t.co/tt3ifFMK\n",
      "Smoking an electronic cig.. Taking steps to quit..\n",
      "Do electric cigs help to quit?\n",
      "I got me an E cig ima finally #quit #hopefully\n",
      "@robmcauslan You settled on a brand yet? I know that @sliderulesyou is quite the e-cig aficionado and may be able to recommend?\n",
      "The next step to quitting. citizenjudkins #vapor #cigarettes #vaporspot #flavortesting @ The Vapor Spot http://t.co/lh2QWyDe\n",
      "@blucigs I quit fire cigarettes as soon as I started this. I am getting all the benefits of quitting smoking, while \"smoking\" its a miracle\n",
      "Tough road. Stay strong. RT @dnelson75 New Years Resolution: Purchased an eCigarette. Quitting smoking after 21 years.\n",
      "On New Year's I had my first smoke since I quit 11 mo ago. In my defence I was half drunk, with a full belly &amp; had misplaced my #ecig. Oops!\n",
      "Want to Quit Smoking? Big Tobacco Is Ready: Electronic cigarettes hit over $400 million in sales in 2012 and wil... http://t.co/livy6PXr\n",
      "Try to quit smoking too!  It's been a week or so since I switched to the blu cigs. That could be another reason I've been gaining weight.\n",
      "Need to buy myself an electric cig need to quit!\n",
      "@PageFortyFive wow go you!that's good going! Loads of my friends have quit with those electric cigarettes, apparently they're worth a try\n",
      "@VickiMcKenna I just got an ecig starter kit cost as much as a cheap pack w/free shipping. Yup quitting on my own!\n",
      "i quit smoking electronic cigarettes and now i just chew electronic gum.\n",
      "Mike smiths quit smoking plan: buy the girliest cigarettes possible so he's to embarrassed to smoke them in public! #Ecig #logic #lovehim\n",
      "awww bless my mam can help but laugh at the electronic cigarette that she is smoking so proud of her quitting finally :)\n",
      "Want to Quit Smoking? Big Tobacco Is Ready: Electronic cigarettes hit over $400 million in sales in 2012 and wil... http://t.co/OAAY6DLB\n",
      "Dip was like a drug taking over Sahuaro, then hookah sticks, now its ecigs... Quit being pussies do some H\n",
      "If your smoking an e-cig u hvnt quit smoking\n",
      "[CNBC] Want to Quit Smoking? Big Tobacco Is Ready: Electronic cigarettes hit over $400 million in sales in 2012 ... http://t.co/hkh7DA2X\n",
      "@DenaHair That's good. Alot of people are quitting tobacco and having e-cigs. Hope to be back dancing as soon i get the go ahead from doctor\n",
      "I quit smoking cigarettes awhile ago but I still want an electric cigarette�???\n",
      "gonna try the e-cig out. hoping it help me quit without the horrific nicotine withdrawal. here's to another go.\n",
      "Coz I started to quit smoking. Hello vaping :))) http://t.co/dV0rnnnj\n",
      "@avighosh an e-cig is how I quit :)\n",
      "My sister got on of those vapor fake cigarette things to quit smoking and I think I'm addicted to it #lol #cherry #imweird\n",
      "@youngDYCE I'm quite sure. *puffs electronic cigarette*\n",
      "OMG... Those #smokefree adverts with bursting clogging artery cigs are vile... I find quitting do hard though. Even though I have asthma.\n",
      "quitting smoking? sounds like a plan. #menthol #electronic #cigarette #njoy #king #premium #new #bold http://t.co/eZyseBHQ\n",
      "Got an e-cig quitting smoking cba spending so much money #����\n",
      "Want to Quit Smoking? Big Tobacco Is Ready: Electronic cigarettes hit over $400 million in sales in 2012 and wil... http://t.co/C2njHSIS\n",
      "found my ecig. gonna try to make it through tonight with only that. pray for me cause quitting sucks\n",
      "I want an electronic cig :) so I can quit\n",
      "Also, quitting smoking lasted a good 14 hours. I think I really need to get myself an e cig :(\n",
      "got the logic cig its time to try and quit smoking again\n",
      "@PhinsJ3ST3R awe I understand. I got no back up. Know sad part is I brought me electronic cig yr ago @ I lost it as soon as I decide 2 quit\n",
      "thanks to these 2 things helped me carry out my new years resolution #ecigs #quitsmoking #livingforevernow # http://t.co/EV0VDbYX\n",
      "End of day 2 and no major cravings for a smoke and the e-cig is helping quite a bit. Hopefully I'll do just as well tomorrow\n",
      "@FreeQuit Thanks for this... I support this fully. I'm going to try that electric cig for now too\n",
      "Bought my mom those electronic cigarettes, hopefully she will quit #disgustinghabit\n",
      "Trying to quit smoking? E-Cigs can help you! Check out this offer! http://t.co/6H7fhta0 My dad would still be alive if he quit... sad!\n",
      "The e-cigarette guy hit me up..again. #IQuitLongAgo #LeaveMeBe\n",
      "Wanna quit smoking? I used Blu e cigs at the time and I'm good now if you need help quitting I'm here let's quit ahead of time.\n",
      "Quit smoking, start vaping!\n",
      "This electronic cigarette will be the only thing to get me through the week. #Quitting\n",
      "Just got an e-cig :) on my way to quit smoking. :)\n",
      "Can e-Cigarettes Really Help You Quit Smoking? http://t.co/Xst2u6Yr\n",
      "Cut back to about 1 [drunken] cigarette a week since Jan 1st. As of today i'm 1 day smoke free and I plan on quitting for good. #quitting\n",
      "So far the ecig is working for me. Heres hoping i can stay quit this time\n",
      "Got myself an e-cig to help me quit.\n",
      "Dont quite understand this vaping fad going on right now. To me stop smoking MEANS stop smoking.\n",
      "this e-cigarette tastes like petrol... I guess that's one way to quit\n",
      "I'm gonna try this electronic cig, see if it helps me quit. #blucigs http://t.co/9IZGUYIc\n",
      "Your New Year's Resolution: Quit Smoking With E-Cigarettes http://t.co/3q5JJjvO\n"
     ]
    }
   ],
   "source": [
    "# Why spike in \"quit\" in January?\n",
    "#print join_terms(top_terms(X_raw, filter_tweets_ind(raw_tweets, keyvals=[['sent', 'positive'], ['pred_age', '<18'], ['month', sorted(by_month)[9]]]),\n",
    "#                filter_tweets_ind(raw_tweets, keyvals=[['sent', 'positive'], ['pred_age', '<18']]), features))\n",
    "\n",
    "print '\\n'.join(t['text'] for t in search_tweets(raw_tweets, 'quit', [['month', sorted(by_month)[3]]]))"
   ]
  },
  {
   "cell_type": "code",
   "execution_count": 61,
   "metadata": {
    "collapsed": false
   },
   "outputs": [
    {
     "name": "stdout",
     "output_type": "stream",
     "text": [
      "<18 compared to other ages in April\n",
      "9406 target and 27924 base indices\n",
      "class, ecig, e, my, an, cig, cool, in, kid, just, you, guy, their, really, smoking, e-cig, nice, kids, advice, his\n",
      "<18 in april compared to other months\n",
      "9406 target and 370305 base indices\n",
      "courtney, f-bomb, @simoncowell, drops, ecig, \\#euecigban, love, class, ad, my, twist, cig, in, an, @vapebans, njoy, honestly, \\#ecig, i, metal\n",
      "courtney posts <18\n",
      "<18 166\n",
      "18-24 17\n",
      "25-34 44\n",
      "35-44 41\n",
      ">=45 158\n",
      "simoncowell posts <18\n",
      "<18 57\n",
      "18-24 2\n",
      "25-34 28\n",
      "35-44 22\n",
      ">=45 73\n",
      "#CourtneyLove appears in a commercial of electronic cigarettes --&gt; http://t.co/QwuqsL8ew3\n",
      "Courtney Love 'Sells Out' to E-Cigs: See her NSFW advertisement for electronic cigarettes here, but keep the v... http://t.co/rbDkIutGNT\n",
      "Courtney Love Drops the F-Bomb in Ad for E-Cigarettes http://t.co/MX7pWwQpr8 {by: @mashbusiness}\n",
      "Celebrity News: Courtney Love advertises electronic cigarettes http://t.co/V0UdbfKcIq\n",
      "@Courtney is a bad bitch ?? RT @HuffingtonPost: Courtney Love shills for e-cigarette company in new commercial   http://t.co/nUZd7cLihH\n",
      "Courtney Love Drops the F-Bomb in Ad for E-Cigarettes http://t.co/TcYWq4IqNh\n",
      "NJOY Electronic Cigarettes vs. Saint Laurent: The Courtney Love Doesn�??t Give a F*ck Campaign Edition http://t.co/t5cjp7Dak4\n",
      "Courtney Love Drops the F-Bomb in Ad for E-Cigarettes http://t.co/LLWefcOXjb\n",
      "Crying at @Courtney's NJOY cig advert. HAHAHAHAHAH LOVE YOU BBY.\n",
      "Courtney Love Drops the F-Bomb in Ad for E-Cigarettes http://t.co/o5ceNFsv7y #TeamFollowBack\n",
      "tech news:  Courtney Love Drops the F-Bomb in Ad for E-Cigarettes http://t.co/eYqPCfTJzN #advertising #business\n",
      "#love #news Courtney Love's E-Cig Commercial: 'Relax, It's a F**king NJOY ...: Until today. Courtney Love has ... http://t.co/rKC7hvI1us\n",
      "There's an electric cigarette commercial with Courtney Love? The world must die.\n",
      "Courtney Love Drops the F-Bomb in Ad for E-Cigarettes http://t.co/eU1WNp17Si\n",
      "Courtney Love Drops the F-Bomb in Ad for E-Cigarettes http://t.co/Fjw5ukbtrG\n",
      "Courtney Love Drops the F-Bomb in Ad for E-Cigarettes http://t.co/UCYw3MXAW9 via @mashable\n",
      "Courtney Love is the new face of NJOY e-cigarettes http://t.co/YZb0QwEYeQ #marketing #branding\n",
      "Courtney Love puffs on an electronic cigarette as she makes a comeback with new ad campaign http://t.co/ER30k7NDp6 via @MailOnline\n",
      "Courtney is in again RT @huffingtonpost Courtney Love's new commercial for electronic cigarettes captures the essence of Courtney Love...\n",
      "Courtney Love Drops the F-Bomb in Ad for E-Cigarettes http://t.co/jcbNML3uK0\n",
      "Courtney Love Drops the F-Bomb in Ad for E-Cigarettes http://t.co/qSIvQvKcXM\n",
      "Courtney Love Drops the F-Bomb in Ad for E-Cigarettes http://t.co/gzpXjj1JJF\n",
      "@philnelson thought of you: �??@NME: Courtney Love gets sweary in new advert for electronic cigarettes �?? watch http://t.co/BEWITsoHdg�??\n",
      "Courtney Love Drops the F-Bomb in Ad for E-Cigarettes http://t.co/gz3yUKG5q1 via @mashable\n",
      "[Mashable] Courtney Love Drops the F-Bomb in Ad for E-Cigarettes http://t.co/1vJKCS3UWX\n",
      "Courtney Love's E-Cig Commercial: 'Relax, It's a F**king NJOY ...: Until today. Courtney Love has partnered up... http://t.co/eL8VH4dIfo\n",
      "Courtney Love Drops the F-Bomb in Ad for E-Cigarettes http://t.co/L3Lsh6sDyv #SocialMedia\n",
      "Translation:\"The Nirvana $$ finally ran out.\"MT @vulture Courtney Love is the latest to turn to selling e-cigarettes http://t.co/jiNS3AnLrO\n",
      "Courtney Love Drops the F-Bomb in Ad for E-Cigarettes http://t.co/r7kA6mijoL\n",
      "Courtney Love Drops the F-Bomb in Ad for E-Cigarettes http://t.co/RPDsTviG7n\n",
      "Courtney Love Drops the F-Bomb in Ad for E-Cigarettes http://t.co/rLvakimR97 #actualidad\n",
      "Courtney Love Drops the F-Bomb in Ad for E-Cigarettes http://t.co/ssSUteq50v\n",
      "NJOY Electronic Cigarettes vs. Saint Laurent: The Courtney Love Doesn�??t Give a F*ck Ca... http://t.co/K8p8olaeyJ #fashionista.com\n",
      "Quand Courtney Love fait de la pub pour une e-cigarette http://t.co/eUZLykeTyC\n",
      "Courtney Love gets sweary in new advert for electronic cigarettes �?? watch http://t.co/flBnd9jLg9 #music\n",
      "Courtney Love's E-Cig Commercial: 'Relax, It's a F**king NJOY ... http://t.co/99ku1Aydvm\n",
      "�@mashable Courtney Love Drops the F-Bomb in Ad for E-Cigarettes http://t.co/X1f7ZHdJMC�\n",
      "Courtney Love Drops the F-Bomb in Ad for E-Cigarettes http://t.co/LeG6YKE1f6\n",
      "Courtney Love Drops the F-Bomb in Ad for E-Cigarettes http://t.co/VnftEVxGQ8\n",
      "Courtney Love Shoots Ad For Electronic Cigarettes �?? Check Out The Hilarious Result! http://t.co/15s68NBKtJ\n",
      "Courtney Love Stars in New E-Cigarette Ad: The rocker drops an F-bomb in the 50-second commercial for NJOY, wh... http://t.co/wGfiMddkj5\n",
      "NJOY Electronic Cigarettes vs. Saint Laurent: The Courtney Love Doesn�??t Give a F*ck Campaign Edition: Courtney... http://t.co/PQmhJ1WskD\n",
      "Courtney Love gets sweary in new advert for electronic cigarettes �?? watch http://t.co/NQiyBZU4eQ\n",
      "Courtney Love Drops the F-Bomb in Ad for E-Cigarettes http://t.co/hYuh51qtpt\n",
      "Courtney Love gets sweary in new advert for electronic cigarettes �?? watch: The Hole frontwoman stars in an ad ... http://t.co/9lplHekUE5\n",
      "Mashable: Courtney Love Drops the F-Bomb in Ad for E-Cigarettes http://t.co/ZL1A2uLnPn\n",
      "#LoveMyL Courtney Love's E-Cig Commercial: 'Relax, It's a F**king NJOY!' - New York Observer: New York Observe... http://t.co/eVuIESr9Pe\n",
      "NJOY Presents: Relax...It's Courtney Love! I kinda want an e-cig now, lol...  http://t.co/200t4dA0ck\n",
      "NJOY Electronic Cigarettes vs. Saint Laurent: The Courtney Love Doesn�??t Give a F*ck Campaign Edition http://t.co/PZX7bwrcsl\n",
      "Courtney Love Drops the F-Bomb in Ad for E-Cigarettes http://t.co/1Ax3V8cKTd #social\n",
      "Courtney Love Drops the F-Bomb in Ad for E-Cigarettes http://t.co/u26pG5RjPy\n",
      "Courtney Love Drops the F-Bomb in Ad for E-Cigarettes http://t.co/5hNmnUaZ2C\n",
      "Courtney Love Drops the F-Bomb in Ad for E-Cigarettes http://t.co/nNTThPKFTT\n",
      "@Courtney NJOY should make some weed cigarettes  @njoyecigs @YouTube\n",
      "@Courtney for ecigs!!!! &lt;3\n",
      "Courtney Love Drops the F-Bomb in Ad for E-Cigarettes http://t.co/8cnAKe8vaq via @mashable\n",
      "#Mashable Courtney Love Drops the F-Bomb in Ad for E-Cigarettes http://t.co/la7XezakWM\n",
      "Courtney Love Drops the F-Bomb in Ad for E-Cigarettes http://t.co/0wN7ZwQnXv via @mashable\n",
      "Haha I die for @Courtney's NJOY commercial - http://t.co/Yyfur3RMxQ\n",
      "NJOY Electronic Cigarettes vs. Saint Laurent: The Courtney Love Doesn�??t Give a F*ck Campaign Edition: Courtney... http://t.co/sHx5GZixAW\n",
      "[Mashable] Courtney Love Drops the F-Bomb in Ad for E-Cigarettes http://t.co/eZfzgLQSEO\n",
      "NJOY Electronic Cigarettes vs. Saint Laurent: The Courtney Love Doesn�??t Give a F*ck Campaign Edition http://t.co/XOTY1Yn6Lt\n",
      "Watch Courtney Love Shill (and Swear) for Electronic Cigarettes http://t.co/VSudDP3OrT\n",
      "Courtney Love Shoots Ad For Electronic Cigarettes �?? Check Out The Hilarious Result! http://t.co/ZmWCGbBpso @rmsteed\n",
      "#love �?�RT @Courtney RT @NME: Courtney Love gets sweary in new advert for electronic cigarettes �?? watch http://t.co/fqnlxBP2LL\n",
      "Courtney Love Drops the F-Bomb in Ad for E-Cigarettes http://t.co/bo3DQUPJAV\n",
      "Courtney Love Drops the F-Bomb in Ad for E-Cigarettes http://t.co/QavYK2rFQk\n",
      "Courtney Love For E-Cigarettes http://t.co/lkCJrYEkYU\n",
      "�??@NME: Courtney Love gets sweary in new advert for electronic cigarettes �?? watch http://t.co/R61txOb6Kh�?? Oh, Courtney chérie...!\n",
      "Courtney Love Drops the F-Bomb in Ad for E-Cigarettes http://t.co/opWE9XaXCQ\n",
      "Courtney Love's E-Cig Commercial: 'Relax, It's a F**king NJOY ...: Until today. Courtney Love has partnered up... http://t.co/tQCyNoXAtv\n",
      "Courtney Love Did A Commercial For Those Weird Electronic Cigarettes http://t.co/41lCJPNLLx #glamour #FashionNews #FashionIndustry\n",
      "#NewVideo: @NJOYecigs Presents Relax�.It�s Courtney Love!: NJOY, the most popular electronic cigarette brand i... http://t.co/dM35Mn9Vs2\n",
      "#advertising Courtney Love Delivers F-Bomb in E-Cigarette Ad (adrants): Share With Frie... http://t.co/N2dR5t9aZC http://t.co/mCNClMjPiY\n",
      "�@SPINmagazine: Courtney Love is selling e-cigarettes in a very Courtney way http://t.co/3jjmSM0ZtJ� This is winning.\n",
      "Courtney Love Drops the F-Bomb in Ad for E-Cigarettes http://t.co/GW5LnHWPQV\n",
      "Courtney Love Drops the F-Bomb in Ad for E-Cigarettes http://t.co/3v8DUckjZA\n",
      "Courtney Love Drops the F-Bomb in Ad for E-Cigarettes http://t.co/gWyp25hpBU\n",
      "#Marketing Courtney Love Drops the F-Bomb in Ad for E-Cigarettes http://t.co/UnA2wELbUQ\n",
      "Courtney Love Drops the F-Bomb in Ad for E-Cigarettes http://t.co/wMwyCypeC5\n",
      "Courtney Love Drops the F-Bomb in Ad for E-Cigarettes http://t.co/7zfNpWJQEN\n",
      "Courtney Love Drops the F-Bomb in Ad for E-Cigarettes http://t.co/zr7pYVVwKU #TeamFollowBack\n",
      "Courtney Love Stars in New E-Cigarette Ad: The rocker drops an F-bomb in the 50-second commercial for NJOY, wh... http://t.co/hKXEeUvqeT\n",
      "Courtney Love Drops the F-Bomb in Ad for E-Cigarettes  http://t.co/3juViZ3YSx via @Viraltwit1\n",
      "Courtney Love Joins Stephen Dorff to Encourage Gen-Xers to Smoke e-Cigarettes http://t.co/1dr7yAOLyn\n",
      "Courtney Love Drops the F-Bomb in Ad for E-Cigarettes http://t.co/5vhM4x1WwQ\n",
      "Courtney Love gets sweary in new advert for electronic cigarettes �?? watch | News | http://t.co/XeoPkx8mtS http://t.co/jlyTYzk00r @NME\n",
      "Courtney Love's e-cig ad somehow ended up being amazing and not a piece of shit http://t.co/LODlsXGrI4\n",
      "Quand Courtney Love fait de la pub pour une e-cigarette http://t.co/YSa4wu2vIW\n",
      "Courtney Love Drops the F-Bomb in Ad for E-Cigarettes http://t.co/j6EP4jNbMW\n",
      "Courtney Love Advertises Electronic Cigarettes http://t.co/vZWXZRGGXN\n",
      "Watch Courtney Love�s E-Cigarette Commercial: Seeing someone smoking an e-cigarette in a smoke-free area is st... http://t.co/jyUl0Z9Cfa\n",
      "Nice Blog @suryaray Courtney Love Drops the F-Bomb in Ad for E-Cigarettes http://t.co/m0sWPWWG1v #SuryaRay #Indian\n",
      "\"Relax�It�s a f_ing NJOY\" : Courtney aussi c�de � la cigarette �lectronique http://t.co/zEnDrD159S\n",
      "Courtney Love Drops the F-Bomb in Ad for E-Cigarettes http://t.co/PkgEN4s6WQ v�a @mashable\n",
      "Courtney Love Drops the F-Bomb in Ad for E-Cigarettes http://t.co/HPL1IQzLKV\n",
      "Courtney Love Drops the F-Bomb in Ad for E-Cigarettes http://t.co/SS7JnHYstY\n",
      "Courtney Love Drops the F-Bomb in Ad for E-Cigarettes http://t.co/GYoEgJn49o #SMM #technology\n",
      "Courtney Love Drops the F-Bomb in Ad for E-Cigarettes http://t.co/lE6cW04ZEk\n",
      "Courtney Love�??s New �??NJOY�?? Ad for Electronic Cigarettes Is So Courtney Love http://t.co/BdFESkmz5l #CelebrityNews\n"
     ]
    }
   ],
   "source": [
    "# Why are youngsters talking more in April?\n",
    "print '<18 compared to other ages in April'\n",
    "print join_terms(top_terms(X_raw, filter_tweets_ind(raw_tweets, keyvals=[['pred_age', '<18'], ['month', sorted(by_month)[6]]]),\n",
    "                filter_tweets_ind(raw_tweets, keyvals=[['month', sorted(by_month)[6]]]), features))\n",
    "\n",
    "print '<18 in april compared to other months'\n",
    "print join_terms(top_terms(X_raw, filter_tweets_ind(raw_tweets, keyvals=[['pred_age', '<18'], ['month', sorted(by_month)[6]]]),\n",
    "                filter_tweets_ind(raw_tweets), features))\n",
    "\n",
    "print 'courtney posts <18'\n",
    "for age in ['<18', '18-24', '25-34', '35-44', '>=45']:\n",
    "    print age, len(search_tweets(raw_tweets, 'courtney', [['pred_age', age], ['month', sorted(by_month)[6]]], 1e10))\n",
    "\n",
    "print 'simoncowell posts <18'\n",
    "for age in ['<18', '18-24', '25-34', '35-44', '>=45']:\n",
    "    print age, len(search_tweets(raw_tweets, 'simoncowell', [['pred_age', age], ['month', sorted(by_month)[6]]], 1e10))\n",
    "print '\\n'.join(t['text'] for t in search_tweets(raw_tweets, 'courtney', [['pred_age', '<18'], ['month', sorted(by_month)[6]]], 100))"
   ]
  }
 ],
 "metadata": {
  "kernelspec": {
   "display_name": "Python 2",
   "language": "python",
   "name": "python2"
  },
  "language_info": {
   "codemirror_mode": {
    "name": "ipython",
    "version": 2
   },
   "file_extension": ".py",
   "mimetype": "text/x-python",
   "name": "python",
   "nbconvert_exporter": "python",
   "pygments_lexer": "ipython2",
   "version": "2.7.5"
  }
 },
 "nbformat": 4,
 "nbformat_minor": 0
}
